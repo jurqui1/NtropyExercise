{
 "metadata": {
  "language_info": {
   "codemirror_mode": {
    "name": "ipython",
    "version": 3
   },
   "file_extension": ".py",
   "mimetype": "text/x-python",
   "name": "python",
   "nbconvert_exporter": "python",
   "pygments_lexer": "ipython3",
   "version": "3.7.4"
  },
  "orig_nbformat": 2,
  "kernelspec": {
   "name": "python374jvsc74a57bd05ca7d9beb22e952c31a8e2fe7d811130044162231f22e247eaed9cab05f8fa54",
   "display_name": "Python 3.7.4 64-bit ('base': conda)"
  },
  "metadata": {
   "interpreter": {
    "hash": "2db524e06e9f5f4ffedc911c917cb75e12dbc923643829bf417064a77eb14d37"
   }
  }
 },
 "nbformat": 4,
 "nbformat_minor": 2,
 "cells": [
  {
   "source": [
    "## Problem Statment:\n",
    "\n",
    "Imagine the digits in the test set of the MNIST dataset\n",
    "(http://yann.lecun.com/exdb/mnist/) got cut in half vertically and shuffled around. Although the\n",
    "two resulting halves of each image do not have any shared pixels, there are\n",
    "similarities in their structure. Implement a way to restore the original test\n",
    "set from the two halves, whilst maximising the overall matching accuracy.\n",
    "\n"
   ],
   "cell_type": "markdown",
   "metadata": {}
  },
  {
   "source": [
    "## Purposed Solution:\n",
    "Take pixel values at the edge of both images and attempt different ways of relating them to each other. My metric will be based off of subtracting one array of left sided pixel edge values from the other side for all right hand images. I then sum the absolute difference of the values and the min of the list of values will be considered the \"correct\" prediction\n",
    "\n",
    "### Methods I am going to attempt:\n",
    "\n",
    "- comparing last pixel values \n",
    "- averaging the last 2 pixels on each end and comparing \n",
    "- data generation through pixel repition and use moving windows to generate a \"gradient\"\n",
    "\n"
   ],
   "cell_type": "markdown",
   "metadata": {}
  },
  {
   "cell_type": "code",
   "execution_count": 2,
   "metadata": {},
   "outputs": [
    {
     "output_type": "stream",
     "name": "stderr",
     "text": [
      "Using TensorFlow backend.\n"
     ]
    }
   ],
   "source": [
    "from keras.datasets import mnist\n",
    "from matplotlib import pyplot\n",
    " "
   ]
  },
  {
   "cell_type": "code",
   "execution_count": 223,
   "metadata": {},
   "outputs": [],
   "source": [
    "# loading\n",
    "(train_X, train_y), (test_X, test_y) = mnist.load_data()"
   ]
  },
  {
   "cell_type": "code",
   "execution_count": 225,
   "metadata": {},
   "outputs": [],
   "source": [
    "# Working with a subset that can be expanded\n",
    "train_X = train_X[0:100]/255\n",
    "test_X = test_X[0:100]/255\n",
    "train_y = train_y[0:100]/255\n",
    "test_y = test_y[0:100]/255"
   ]
  },
  {
   "cell_type": "code",
   "execution_count": 7,
   "metadata": {},
   "outputs": [],
   "source": [
    "# Cutting Images in half for edge detection algo\n",
    "height, width = train_X[0].shape\n",
    "half = width//2"
   ]
  },
  {
   "cell_type": "code",
   "execution_count": 154,
   "metadata": {},
   "outputs": [],
   "source": [
    "# I want to do half-1 or half+1, but I think its been resulting in longer computation times, so I'm not going to generalize \n",
    "from itertools import chain\n",
    "\n",
    "# Eliminates list within list data formatting \n",
    "left_slice_train_X = [list(chain.from_iterable(train_X[i][:, 13:half])) for i in range(len(train_X))]\n",
    "right_slice_train_X = [list(chain.from_iterable(train_X[i][:, half: 15])) for i in range(len(train_X))]\n",
    "\n",
    "# 2 Pixel version thats been left in list format \n",
    "left_slice_two_px = [train_X[i][:, 12:half] for i in range(len(train_X))]\n",
    "right_slice_two_px = [train_X[i][:, half:16] for i in range(len(train_X))]"
   ]
  },
  {
   "cell_type": "code",
   "execution_count": 155,
   "metadata": {},
   "outputs": [
    {
     "output_type": "display_data",
     "data": {
      "text/plain": "<Figure size 432x288 with 1 Axes>",
      "image/svg+xml": "<?xml version=\"1.0\" encoding=\"utf-8\" standalone=\"no\"?>\r\n<!DOCTYPE svg PUBLIC \"-//W3C//DTD SVG 1.1//EN\"\r\n  \"http://www.w3.org/Graphics/SVG/1.1/DTD/svg11.dtd\">\r\n<!-- Created with matplotlib (https://matplotlib.org/) -->\r\n<svg height=\"248.518125pt\" version=\"1.1\" viewBox=\"0 0 49.656429 248.518125\" width=\"49.656429pt\" xmlns=\"http://www.w3.org/2000/svg\" xmlns:xlink=\"http://www.w3.org/1999/xlink\">\r\n <defs>\r\n  <style type=\"text/css\">\r\n*{stroke-linecap:butt;stroke-linejoin:round;}\r\n  </style>\r\n </defs>\r\n <g id=\"figure_1\">\r\n  <g id=\"patch_1\">\r\n   <path d=\"M 0 248.518125 \r\nL 49.656429 248.518125 \r\nL 49.656429 0 \r\nL 0 0 \r\nz\r\n\" style=\"fill:none;\"/>\r\n  </g>\r\n  <g id=\"axes_1\">\r\n   <g id=\"patch_2\">\r\n    <path d=\"M 26.925 224.64 \r\nL 42.456429 224.64 \r\nL 42.456429 7.2 \r\nL 26.925 7.2 \r\nz\r\n\" style=\"fill:#ffffff;\"/>\r\n   </g>\r\n   <g clip-path=\"url(#p9ab50d79ad)\">\r\n    <image height=\"218\" id=\"imageb033d8d2f0\" transform=\"scale(1 -1)translate(0 -218)\" width=\"16\" x=\"26.925\" xlink:href=\"data:image/png;base64,\r\niVBORw0KGgoAAAANSUhEUgAAABAAAADaCAYAAACvgMKzAAAABHNCSVQICAgIfAhkiAAAARxJREFUaIHt2TGPAUEYxvFbNzpRnUSlUrgClYhcdOcLoNBSS3wAjUKnVui161voRXXJduKyClGIcoVK+27Byxv5T/3sL88mM7ObGe/Xa18+7hiJex4GAAAAAAAAUABcMK2KgcLwT7cBgAXAO4d58Tev/y/Pk9e/AsAz5oF6AwALgPNPaTHQSh11GwA8Yjk3KiNxOQeDpG4DAAuAxykOAAAAAADAuwEuLnDo1XQbAFgAXKL8LQb80US3AYAFwGVnWzGQcyndBgAWgNjTvO6mrtsA4Bmf99W8qNsAwAIQu5zH+4JuAwALAJc0AAAAt+F+1k0xsCwtdBsAPOSyLtkRt/XPzJduAwALgLtEkRiIwp1uAwAAAAAAAAAAAAXgCtkrM6eX+jRWAAAAAElFTkSuQmCC\" y=\"-6.64\"/>\r\n   </g>\r\n   <g id=\"matplotlib.axis_1\">\r\n    <g id=\"xtick_1\">\r\n     <g id=\"line2d_1\">\r\n      <defs>\r\n       <path d=\"M 0 0 \r\nL 0 3.5 \r\n\" id=\"md95e13e4f6\" style=\"stroke:#000000;stroke-width:0.8;\"/>\r\n      </defs>\r\n      <g>\r\n       <use style=\"stroke:#000000;stroke-width:0.8;\" x=\"30.807857\" xlink:href=\"#md95e13e4f6\" y=\"224.64\"/>\r\n      </g>\r\n     </g>\r\n     <g id=\"text_1\">\r\n      <!-- 0 -->\r\n      <defs>\r\n       <path d=\"M 31.78125 66.40625 \r\nQ 24.171875 66.40625 20.328125 58.90625 \r\nQ 16.5 51.421875 16.5 36.375 \r\nQ 16.5 21.390625 20.328125 13.890625 \r\nQ 24.171875 6.390625 31.78125 6.390625 \r\nQ 39.453125 6.390625 43.28125 13.890625 \r\nQ 47.125 21.390625 47.125 36.375 \r\nQ 47.125 51.421875 43.28125 58.90625 \r\nQ 39.453125 66.40625 31.78125 66.40625 \r\nz\r\nM 31.78125 74.21875 \r\nQ 44.046875 74.21875 50.515625 64.515625 \r\nQ 56.984375 54.828125 56.984375 36.375 \r\nQ 56.984375 17.96875 50.515625 8.265625 \r\nQ 44.046875 -1.421875 31.78125 -1.421875 \r\nQ 19.53125 -1.421875 13.0625 8.265625 \r\nQ 6.59375 17.96875 6.59375 36.375 \r\nQ 6.59375 54.828125 13.0625 64.515625 \r\nQ 19.53125 74.21875 31.78125 74.21875 \r\nz\r\n\" id=\"DejaVuSans-48\"/>\r\n      </defs>\r\n      <g transform=\"translate(27.626607 239.238437)scale(0.1 -0.1)\">\r\n       <use xlink:href=\"#DejaVuSans-48\"/>\r\n      </g>\r\n     </g>\r\n    </g>\r\n    <g id=\"xtick_2\">\r\n     <g id=\"line2d_2\">\r\n      <g>\r\n       <use style=\"stroke:#000000;stroke-width:0.8;\" x=\"38.573571\" xlink:href=\"#md95e13e4f6\" y=\"224.64\"/>\r\n      </g>\r\n     </g>\r\n     <g id=\"text_2\">\r\n      <!-- 1 -->\r\n      <defs>\r\n       <path d=\"M 12.40625 8.296875 \r\nL 28.515625 8.296875 \r\nL 28.515625 63.921875 \r\nL 10.984375 60.40625 \r\nL 10.984375 69.390625 \r\nL 28.421875 72.90625 \r\nL 38.28125 72.90625 \r\nL 38.28125 8.296875 \r\nL 54.390625 8.296875 \r\nL 54.390625 0 \r\nL 12.40625 0 \r\nz\r\n\" id=\"DejaVuSans-49\"/>\r\n      </defs>\r\n      <g transform=\"translate(35.392321 239.238437)scale(0.1 -0.1)\">\r\n       <use xlink:href=\"#DejaVuSans-49\"/>\r\n      </g>\r\n     </g>\r\n    </g>\r\n   </g>\r\n   <g id=\"matplotlib.axis_2\">\r\n    <g id=\"ytick_1\">\r\n     <g id=\"line2d_3\">\r\n      <defs>\r\n       <path d=\"M 0 0 \r\nL -3.5 0 \r\n\" id=\"m759b41667e\" style=\"stroke:#000000;stroke-width:0.8;\"/>\r\n      </defs>\r\n      <g>\r\n       <use style=\"stroke:#000000;stroke-width:0.8;\" x=\"26.925\" xlink:href=\"#m759b41667e\" y=\"11.082857\"/>\r\n      </g>\r\n     </g>\r\n     <g id=\"text_3\">\r\n      <!-- 0 -->\r\n      <g transform=\"translate(13.5625 14.882076)scale(0.1 -0.1)\">\r\n       <use xlink:href=\"#DejaVuSans-48\"/>\r\n      </g>\r\n     </g>\r\n    </g>\r\n    <g id=\"ytick_2\">\r\n     <g id=\"line2d_4\">\r\n      <g>\r\n       <use style=\"stroke:#000000;stroke-width:0.8;\" x=\"26.925\" xlink:href=\"#m759b41667e\" y=\"49.911429\"/>\r\n      </g>\r\n     </g>\r\n     <g id=\"text_4\">\r\n      <!-- 5 -->\r\n      <defs>\r\n       <path d=\"M 10.796875 72.90625 \r\nL 49.515625 72.90625 \r\nL 49.515625 64.59375 \r\nL 19.828125 64.59375 \r\nL 19.828125 46.734375 \r\nQ 21.96875 47.46875 24.109375 47.828125 \r\nQ 26.265625 48.1875 28.421875 48.1875 \r\nQ 40.625 48.1875 47.75 41.5 \r\nQ 54.890625 34.8125 54.890625 23.390625 \r\nQ 54.890625 11.625 47.5625 5.09375 \r\nQ 40.234375 -1.421875 26.90625 -1.421875 \r\nQ 22.3125 -1.421875 17.546875 -0.640625 \r\nQ 12.796875 0.140625 7.71875 1.703125 \r\nL 7.71875 11.625 \r\nQ 12.109375 9.234375 16.796875 8.0625 \r\nQ 21.484375 6.890625 26.703125 6.890625 \r\nQ 35.15625 6.890625 40.078125 11.328125 \r\nQ 45.015625 15.765625 45.015625 23.390625 \r\nQ 45.015625 31 40.078125 35.4375 \r\nQ 35.15625 39.890625 26.703125 39.890625 \r\nQ 22.75 39.890625 18.8125 39.015625 \r\nQ 14.890625 38.140625 10.796875 36.28125 \r\nz\r\n\" id=\"DejaVuSans-53\"/>\r\n      </defs>\r\n      <g transform=\"translate(13.5625 53.710647)scale(0.1 -0.1)\">\r\n       <use xlink:href=\"#DejaVuSans-53\"/>\r\n      </g>\r\n     </g>\r\n    </g>\r\n    <g id=\"ytick_3\">\r\n     <g id=\"line2d_5\">\r\n      <g>\r\n       <use style=\"stroke:#000000;stroke-width:0.8;\" x=\"26.925\" xlink:href=\"#m759b41667e\" y=\"88.74\"/>\r\n      </g>\r\n     </g>\r\n     <g id=\"text_5\">\r\n      <!-- 10 -->\r\n      <g transform=\"translate(7.2 92.539219)scale(0.1 -0.1)\">\r\n       <use xlink:href=\"#DejaVuSans-49\"/>\r\n       <use x=\"63.623047\" xlink:href=\"#DejaVuSans-48\"/>\r\n      </g>\r\n     </g>\r\n    </g>\r\n    <g id=\"ytick_4\">\r\n     <g id=\"line2d_6\">\r\n      <g>\r\n       <use style=\"stroke:#000000;stroke-width:0.8;\" x=\"26.925\" xlink:href=\"#m759b41667e\" y=\"127.568571\"/>\r\n      </g>\r\n     </g>\r\n     <g id=\"text_6\">\r\n      <!-- 15 -->\r\n      <g transform=\"translate(7.2 131.36779)scale(0.1 -0.1)\">\r\n       <use xlink:href=\"#DejaVuSans-49\"/>\r\n       <use x=\"63.623047\" xlink:href=\"#DejaVuSans-53\"/>\r\n      </g>\r\n     </g>\r\n    </g>\r\n    <g id=\"ytick_5\">\r\n     <g id=\"line2d_7\">\r\n      <g>\r\n       <use style=\"stroke:#000000;stroke-width:0.8;\" x=\"26.925\" xlink:href=\"#m759b41667e\" y=\"166.397143\"/>\r\n      </g>\r\n     </g>\r\n     <g id=\"text_7\">\r\n      <!-- 20 -->\r\n      <defs>\r\n       <path d=\"M 19.1875 8.296875 \r\nL 53.609375 8.296875 \r\nL 53.609375 0 \r\nL 7.328125 0 \r\nL 7.328125 8.296875 \r\nQ 12.9375 14.109375 22.625 23.890625 \r\nQ 32.328125 33.6875 34.8125 36.53125 \r\nQ 39.546875 41.84375 41.421875 45.53125 \r\nQ 43.3125 49.21875 43.3125 52.78125 \r\nQ 43.3125 58.59375 39.234375 62.25 \r\nQ 35.15625 65.921875 28.609375 65.921875 \r\nQ 23.96875 65.921875 18.8125 64.3125 \r\nQ 13.671875 62.703125 7.8125 59.421875 \r\nL 7.8125 69.390625 \r\nQ 13.765625 71.78125 18.9375 73 \r\nQ 24.125 74.21875 28.421875 74.21875 \r\nQ 39.75 74.21875 46.484375 68.546875 \r\nQ 53.21875 62.890625 53.21875 53.421875 \r\nQ 53.21875 48.921875 51.53125 44.890625 \r\nQ 49.859375 40.875 45.40625 35.40625 \r\nQ 44.1875 33.984375 37.640625 27.21875 \r\nQ 31.109375 20.453125 19.1875 8.296875 \r\nz\r\n\" id=\"DejaVuSans-50\"/>\r\n      </defs>\r\n      <g transform=\"translate(7.2 170.196362)scale(0.1 -0.1)\">\r\n       <use xlink:href=\"#DejaVuSans-50\"/>\r\n       <use x=\"63.623047\" xlink:href=\"#DejaVuSans-48\"/>\r\n      </g>\r\n     </g>\r\n    </g>\r\n    <g id=\"ytick_6\">\r\n     <g id=\"line2d_8\">\r\n      <g>\r\n       <use style=\"stroke:#000000;stroke-width:0.8;\" x=\"26.925\" xlink:href=\"#m759b41667e\" y=\"205.225714\"/>\r\n      </g>\r\n     </g>\r\n     <g id=\"text_8\">\r\n      <!-- 25 -->\r\n      <g transform=\"translate(7.2 209.024933)scale(0.1 -0.1)\">\r\n       <use xlink:href=\"#DejaVuSans-50\"/>\r\n       <use x=\"63.623047\" xlink:href=\"#DejaVuSans-53\"/>\r\n      </g>\r\n     </g>\r\n    </g>\r\n   </g>\r\n   <g id=\"patch_3\">\r\n    <path d=\"M 26.925 224.64 \r\nL 26.925 7.2 \r\n\" style=\"fill:none;stroke:#000000;stroke-linecap:square;stroke-linejoin:miter;stroke-width:0.8;\"/>\r\n   </g>\r\n   <g id=\"patch_4\">\r\n    <path d=\"M 42.456429 224.64 \r\nL 42.456429 7.2 \r\n\" style=\"fill:none;stroke:#000000;stroke-linecap:square;stroke-linejoin:miter;stroke-width:0.8;\"/>\r\n   </g>\r\n   <g id=\"patch_5\">\r\n    <path d=\"M 26.925 224.64 \r\nL 42.456429 224.64 \r\n\" style=\"fill:none;stroke:#000000;stroke-linecap:square;stroke-linejoin:miter;stroke-width:0.8;\"/>\r\n   </g>\r\n   <g id=\"patch_6\">\r\n    <path d=\"M 26.925 7.2 \r\nL 42.456429 7.2 \r\n\" style=\"fill:none;stroke:#000000;stroke-linecap:square;stroke-linejoin:miter;stroke-width:0.8;\"/>\r\n   </g>\r\n  </g>\r\n </g>\r\n <defs>\r\n  <clipPath id=\"p9ab50d79ad\">\r\n   <rect height=\"217.44\" width=\"15.531429\" x=\"26.925\" y=\"7.2\"/>\r\n  </clipPath>\r\n </defs>\r\n</svg>\r\n",
      "image/png": "[encoded data removed]"
     },
     "metadata": {
      "needs_background": "light"
     }
    },
    {
     "output_type": "display_data",
     "data": {
      "text/plain": "<Figure size 432x288 with 1 Axes>",
      "image/svg+xml": "<?xml version=\"1.0\" encoding=\"utf-8\" standalone=\"no\"?>\r\n<!DOCTYPE svg PUBLIC \"-//W3C//DTD SVG 1.1//EN\"\r\n  \"http://www.w3.org/Graphics/SVG/1.1/DTD/svg11.dtd\">\r\n<!-- Created with matplotlib (https://matplotlib.org/) -->\r\n<svg height=\"248.518125pt\" version=\"1.1\" viewBox=\"0 0 49.656429 248.518125\" width=\"49.656429pt\" xmlns=\"http://www.w3.org/2000/svg\" xmlns:xlink=\"http://www.w3.org/1999/xlink\">\r\n <defs>\r\n  <style type=\"text/css\">\r\n*{stroke-linecap:butt;stroke-linejoin:round;}\r\n  </style>\r\n </defs>\r\n <g id=\"figure_1\">\r\n  <g id=\"patch_1\">\r\n   <path d=\"M 0 248.518125 \r\nL 49.656429 248.518125 \r\nL 49.656429 0 \r\nL 0 0 \r\nz\r\n\" style=\"fill:none;\"/>\r\n  </g>\r\n  <g id=\"axes_1\">\r\n   <g id=\"patch_2\">\r\n    <path d=\"M 26.925 224.64 \r\nL 42.456429 224.64 \r\nL 42.456429 7.2 \r\nL 26.925 7.2 \r\nz\r\n\" style=\"fill:#ffffff;\"/>\r\n   </g>\r\n   <g clip-path=\"url(#p0aa9692846)\">\r\n    <image height=\"218\" id=\"image381c083872\" transform=\"scale(1 -1)translate(0 -218)\" width=\"16\" x=\"26.925\" xlink:href=\"data:image/png;base64,\r\niVBORw0KGgoAAAANSUhEUgAAABAAAADaCAYAAACvgMKzAAAABHNCSVQICAgIfAhkiAAAAQBJREFUaIHt2jEKwjAYhmFj46BbJycXQRwcHcRVHQRXZxFv4BlcPIAHKN5BHATxAp5ACk66OatU9AZ/huanEd7MX59+IaG0pGZkpt9SjlHOczEAAAAAAAAAAIASYC9JVwy05mfdBgAhAOZ9a4qv+8t7T7cBQAiA2aUdcR+May/dBgA+ltH19X5d9XUbAIQAOPeBegMAAAAAAAAAAAAAAAAAAAB52CiOxcBj0tZtABACYOv7TAykB6PbACAEwHlIExn5HsVPAQAAwBNgT8+KGBhWP7oNAHws43oxEwON7Ua3AUAIgPOwLhvI/+oUPwUAH88DZ+DIP1kAAAAAAAD/BfwAtS4l3b3yOU8AAAAASUVORK5CYII=\" y=\"-6.64\"/>\r\n   </g>\r\n   <g id=\"matplotlib.axis_1\">\r\n    <g id=\"xtick_1\">\r\n     <g id=\"line2d_1\">\r\n      <defs>\r\n       <path d=\"M 0 0 \r\nL 0 3.5 \r\n\" id=\"m1aaeb746a4\" style=\"stroke:#000000;stroke-width:0.8;\"/>\r\n      </defs>\r\n      <g>\r\n       <use style=\"stroke:#000000;stroke-width:0.8;\" x=\"30.807857\" xlink:href=\"#m1aaeb746a4\" y=\"224.64\"/>\r\n      </g>\r\n     </g>\r\n     <g id=\"text_1\">\r\n      <!-- 0 -->\r\n      <defs>\r\n       <path d=\"M 31.78125 66.40625 \r\nQ 24.171875 66.40625 20.328125 58.90625 \r\nQ 16.5 51.421875 16.5 36.375 \r\nQ 16.5 21.390625 20.328125 13.890625 \r\nQ 24.171875 6.390625 31.78125 6.390625 \r\nQ 39.453125 6.390625 43.28125 13.890625 \r\nQ 47.125 21.390625 47.125 36.375 \r\nQ 47.125 51.421875 43.28125 58.90625 \r\nQ 39.453125 66.40625 31.78125 66.40625 \r\nz\r\nM 31.78125 74.21875 \r\nQ 44.046875 74.21875 50.515625 64.515625 \r\nQ 56.984375 54.828125 56.984375 36.375 \r\nQ 56.984375 17.96875 50.515625 8.265625 \r\nQ 44.046875 -1.421875 31.78125 -1.421875 \r\nQ 19.53125 -1.421875 13.0625 8.265625 \r\nQ 6.59375 17.96875 6.59375 36.375 \r\nQ 6.59375 54.828125 13.0625 64.515625 \r\nQ 19.53125 74.21875 31.78125 74.21875 \r\nz\r\n\" id=\"DejaVuSans-48\"/>\r\n      </defs>\r\n      <g transform=\"translate(27.626607 239.238437)scale(0.1 -0.1)\">\r\n       <use xlink:href=\"#DejaVuSans-48\"/>\r\n      </g>\r\n     </g>\r\n    </g>\r\n    <g id=\"xtick_2\">\r\n     <g id=\"line2d_2\">\r\n      <g>\r\n       <use style=\"stroke:#000000;stroke-width:0.8;\" x=\"38.573571\" xlink:href=\"#m1aaeb746a4\" y=\"224.64\"/>\r\n      </g>\r\n     </g>\r\n     <g id=\"text_2\">\r\n      <!-- 1 -->\r\n      <defs>\r\n       <path d=\"M 12.40625 8.296875 \r\nL 28.515625 8.296875 \r\nL 28.515625 63.921875 \r\nL 10.984375 60.40625 \r\nL 10.984375 69.390625 \r\nL 28.421875 72.90625 \r\nL 38.28125 72.90625 \r\nL 38.28125 8.296875 \r\nL 54.390625 8.296875 \r\nL 54.390625 0 \r\nL 12.40625 0 \r\nz\r\n\" id=\"DejaVuSans-49\"/>\r\n      </defs>\r\n      <g transform=\"translate(35.392321 239.238437)scale(0.1 -0.1)\">\r\n       <use xlink:href=\"#DejaVuSans-49\"/>\r\n      </g>\r\n     </g>\r\n    </g>\r\n   </g>\r\n   <g id=\"matplotlib.axis_2\">\r\n    <g id=\"ytick_1\">\r\n     <g id=\"line2d_3\">\r\n      <defs>\r\n       <path d=\"M 0 0 \r\nL -3.5 0 \r\n\" id=\"ma53c8707fc\" style=\"stroke:#000000;stroke-width:0.8;\"/>\r\n      </defs>\r\n      <g>\r\n       <use style=\"stroke:#000000;stroke-width:0.8;\" x=\"26.925\" xlink:href=\"#ma53c8707fc\" y=\"11.082857\"/>\r\n      </g>\r\n     </g>\r\n     <g id=\"text_3\">\r\n      <!-- 0 -->\r\n      <g transform=\"translate(13.5625 14.882076)scale(0.1 -0.1)\">\r\n       <use xlink:href=\"#DejaVuSans-48\"/>\r\n      </g>\r\n     </g>\r\n    </g>\r\n    <g id=\"ytick_2\">\r\n     <g id=\"line2d_4\">\r\n      <g>\r\n       <use style=\"stroke:#000000;stroke-width:0.8;\" x=\"26.925\" xlink:href=\"#ma53c8707fc\" y=\"49.911429\"/>\r\n      </g>\r\n     </g>\r\n     <g id=\"text_4\">\r\n      <!-- 5 -->\r\n      <defs>\r\n       <path d=\"M 10.796875 72.90625 \r\nL 49.515625 72.90625 \r\nL 49.515625 64.59375 \r\nL 19.828125 64.59375 \r\nL 19.828125 46.734375 \r\nQ 21.96875 47.46875 24.109375 47.828125 \r\nQ 26.265625 48.1875 28.421875 48.1875 \r\nQ 40.625 48.1875 47.75 41.5 \r\nQ 54.890625 34.8125 54.890625 23.390625 \r\nQ 54.890625 11.625 47.5625 5.09375 \r\nQ 40.234375 -1.421875 26.90625 -1.421875 \r\nQ 22.3125 -1.421875 17.546875 -0.640625 \r\nQ 12.796875 0.140625 7.71875 1.703125 \r\nL 7.71875 11.625 \r\nQ 12.109375 9.234375 16.796875 8.0625 \r\nQ 21.484375 6.890625 26.703125 6.890625 \r\nQ 35.15625 6.890625 40.078125 11.328125 \r\nQ 45.015625 15.765625 45.015625 23.390625 \r\nQ 45.015625 31 40.078125 35.4375 \r\nQ 35.15625 39.890625 26.703125 39.890625 \r\nQ 22.75 39.890625 18.8125 39.015625 \r\nQ 14.890625 38.140625 10.796875 36.28125 \r\nz\r\n\" id=\"DejaVuSans-53\"/>\r\n      </defs>\r\n      <g transform=\"translate(13.5625 53.710647)scale(0.1 -0.1)\">\r\n       <use xlink:href=\"#DejaVuSans-53\"/>\r\n      </g>\r\n     </g>\r\n    </g>\r\n    <g id=\"ytick_3\">\r\n     <g id=\"line2d_5\">\r\n      <g>\r\n       <use style=\"stroke:#000000;stroke-width:0.8;\" x=\"26.925\" xlink:href=\"#ma53c8707fc\" y=\"88.74\"/>\r\n      </g>\r\n     </g>\r\n     <g id=\"text_5\">\r\n      <!-- 10 -->\r\n      <g transform=\"translate(7.2 92.539219)scale(0.1 -0.1)\">\r\n       <use xlink:href=\"#DejaVuSans-49\"/>\r\n       <use x=\"63.623047\" xlink:href=\"#DejaVuSans-48\"/>\r\n      </g>\r\n     </g>\r\n    </g>\r\n    <g id=\"ytick_4\">\r\n     <g id=\"line2d_6\">\r\n      <g>\r\n       <use style=\"stroke:#000000;stroke-width:0.8;\" x=\"26.925\" xlink:href=\"#ma53c8707fc\" y=\"127.568571\"/>\r\n      </g>\r\n     </g>\r\n     <g id=\"text_6\">\r\n      <!-- 15 -->\r\n      <g transform=\"translate(7.2 131.36779)scale(0.1 -0.1)\">\r\n       <use xlink:href=\"#DejaVuSans-49\"/>\r\n       <use x=\"63.623047\" xlink:href=\"#DejaVuSans-53\"/>\r\n      </g>\r\n     </g>\r\n    </g>\r\n    <g id=\"ytick_5\">\r\n     <g id=\"line2d_7\">\r\n      <g>\r\n       <use style=\"stroke:#000000;stroke-width:0.8;\" x=\"26.925\" xlink:href=\"#ma53c8707fc\" y=\"166.397143\"/>\r\n      </g>\r\n     </g>\r\n     <g id=\"text_7\">\r\n      <!-- 20 -->\r\n      <defs>\r\n       <path d=\"M 19.1875 8.296875 \r\nL 53.609375 8.296875 \r\nL 53.609375 0 \r\nL 7.328125 0 \r\nL 7.328125 8.296875 \r\nQ 12.9375 14.109375 22.625 23.890625 \r\nQ 32.328125 33.6875 34.8125 36.53125 \r\nQ 39.546875 41.84375 41.421875 45.53125 \r\nQ 43.3125 49.21875 43.3125 52.78125 \r\nQ 43.3125 58.59375 39.234375 62.25 \r\nQ 35.15625 65.921875 28.609375 65.921875 \r\nQ 23.96875 65.921875 18.8125 64.3125 \r\nQ 13.671875 62.703125 7.8125 59.421875 \r\nL 7.8125 69.390625 \r\nQ 13.765625 71.78125 18.9375 73 \r\nQ 24.125 74.21875 28.421875 74.21875 \r\nQ 39.75 74.21875 46.484375 68.546875 \r\nQ 53.21875 62.890625 53.21875 53.421875 \r\nQ 53.21875 48.921875 51.53125 44.890625 \r\nQ 49.859375 40.875 45.40625 35.40625 \r\nQ 44.1875 33.984375 37.640625 27.21875 \r\nQ 31.109375 20.453125 19.1875 8.296875 \r\nz\r\n\" id=\"DejaVuSans-50\"/>\r\n      </defs>\r\n      <g transform=\"translate(7.2 170.196362)scale(0.1 -0.1)\">\r\n       <use xlink:href=\"#DejaVuSans-50\"/>\r\n       <use x=\"63.623047\" xlink:href=\"#DejaVuSans-48\"/>\r\n      </g>\r\n     </g>\r\n    </g>\r\n    <g id=\"ytick_6\">\r\n     <g id=\"line2d_8\">\r\n      <g>\r\n       <use style=\"stroke:#000000;stroke-width:0.8;\" x=\"26.925\" xlink:href=\"#ma53c8707fc\" y=\"205.225714\"/>\r\n      </g>\r\n     </g>\r\n     <g id=\"text_8\">\r\n      <!-- 25 -->\r\n      <g transform=\"translate(7.2 209.024933)scale(0.1 -0.1)\">\r\n       <use xlink:href=\"#DejaVuSans-50\"/>\r\n       <use x=\"63.623047\" xlink:href=\"#DejaVuSans-53\"/>\r\n      </g>\r\n     </g>\r\n    </g>\r\n   </g>\r\n   <g id=\"patch_3\">\r\n    <path d=\"M 26.925 224.64 \r\nL 26.925 7.2 \r\n\" style=\"fill:none;stroke:#000000;stroke-linecap:square;stroke-linejoin:miter;stroke-width:0.8;\"/>\r\n   </g>\r\n   <g id=\"patch_4\">\r\n    <path d=\"M 42.456429 224.64 \r\nL 42.456429 7.2 \r\n\" style=\"fill:none;stroke:#000000;stroke-linecap:square;stroke-linejoin:miter;stroke-width:0.8;\"/>\r\n   </g>\r\n   <g id=\"patch_5\">\r\n    <path d=\"M 26.925 224.64 \r\nL 42.456429 224.64 \r\n\" style=\"fill:none;stroke:#000000;stroke-linecap:square;stroke-linejoin:miter;stroke-width:0.8;\"/>\r\n   </g>\r\n   <g id=\"patch_6\">\r\n    <path d=\"M 26.925 7.2 \r\nL 42.456429 7.2 \r\n\" style=\"fill:none;stroke:#000000;stroke-linecap:square;stroke-linejoin:miter;stroke-width:0.8;\"/>\r\n   </g>\r\n  </g>\r\n </g>\r\n <defs>\r\n  <clipPath id=\"p0aa9692846\">\r\n   <rect height=\"217.44\" width=\"15.531429\" x=\"26.925\" y=\"7.2\"/>\r\n  </clipPath>\r\n </defs>\r\n</svg>\r\n",
      "image/png": "[encoded data removed]"
     },
     "metadata": {
      "needs_background": "light"
     }
    }
   ],
   "source": [
    "#plotting\n",
    "from matplotlib import pyplot\n",
    "pyplot.imshow(left_slice_two_px[0])#, cmap=pyplot.get_cmap('gray')\n",
    "pyplot.show()\n",
    "pyplot.imshow(right_slice_two_px[1])#, cmap=pyplot.get_cmap('gray')\n",
    "pyplot.show()"
   ]
  },
  {
   "cell_type": "code",
   "execution_count": 156,
   "metadata": {},
   "outputs": [],
   "source": [
    "# Averaging out the values \n",
    "two_px_left = [np.sum(left_slice_two_px[i], axis = 1)/2 for i in range(len(left_slice_two_px))]\n",
    "two_px_right = [np.sum(right_slice_two_px[i], axis = 1)/2 for i in range(len(right_slice_two_px))]"
   ]
  },
  {
   "cell_type": "code",
   "execution_count": 157,
   "metadata": {},
   "outputs": [
    {
     "output_type": "execute_result",
     "data": {
      "text/plain": [
       "                                                left  \\\n",
       "0  [0, 0, 0, 0, 0, 18, 253, 253, 253, 205, 90, 19...   \n",
       "1  [0, 0, 0, 0, 0, 0, 54, 224, 252, 253, 179, 84,...   \n",
       "2  [0, 0, 0, 0, 0, 0, 0, 0, 0, 0, 0, 0, 0, 0, 150...   \n",
       "3  [0, 0, 0, 0, 0, 0, 0, 0, 0, 0, 0, 0, 32, 104, ...   \n",
       "4  [0, 0, 0, 0, 0, 0, 0, 148, 252, 190, 14, 0, 0,...   \n",
       "\n",
       "                                               right  \\\n",
       "0  [0, 0, 0, 0, 0, 18, 253, 253, 198, 11, 0, 2, 7...   \n",
       "1  [0, 0, 0, 0, 0, 48, 227, 252, 252, 190, 12, 0,...   \n",
       "2  [0, 0, 0, 0, 0, 0, 0, 0, 0, 0, 0, 0, 0, 0, 241...   \n",
       "3  [0, 0, 0, 0, 0, 0, 0, 0, 0, 0, 0, 20, 205, 251...   \n",
       "4  [0, 0, 0, 0, 0, 0, 0, 210, 253, 65, 0, 0, 8, 2...   \n",
       "\n",
       "                                             left_av  \\\n",
       "0  [0.0, 0.0, 0.0, 0.0, 0.0, 10.5, 211.5, 253.0, ...   \n",
       "1  [0.0, 0.0, 0.0, 0.0, 0.0, 0.0, 27.0, 142.0, 25...   \n",
       "2  [0.0, 0.0, 0.0, 0.0, 0.0, 0.0, 0.0, 0.0, 0.0, ...   \n",
       "3  [0.0, 0.0, 0.0, 0.0, 0.0, 0.0, 0.0, 0.0, 0.0, ...   \n",
       "4  [0.0, 0.0, 0.0, 0.0, 0.0, 0.0, 0.0, 101.5, 242...   \n",
       "\n",
       "                                            right_av  \n",
       "0  [0.0, 0.0, 0.0, 0.0, 0.0, 18.0, 253.0, 253.0, ...  \n",
       "1  [0.0, 0.0, 0.0, 0.0, 25.5, 143.0, 240.0, 252.5...  \n",
       "2  [0.0, 0.0, 0.0, 0.0, 0.0, 0.0, 0.0, 0.0, 0.0, ...  \n",
       "3  [0.0, 0.0, 0.0, 0.0, 0.0, 0.0, 0.0, 0.0, 0.0, ...  \n",
       "4  [0.0, 0.0, 0.0, 0.0, 0.0, 0.0, 0.0, 231.5, 221...  "
      ],
      "text/html": "<div>\n<style scoped>\n    .dataframe tbody tr th:only-of-type {\n        vertical-align: middle;\n    }\n\n    .dataframe tbody tr th {\n        vertical-align: top;\n    }\n\n    .dataframe thead th {\n        text-align: right;\n    }\n</style>\n<table border=\"1\" class=\"dataframe\">\n  <thead>\n    <tr style=\"text-align: right;\">\n      <th></th>\n      <th>left</th>\n      <th>right</th>\n      <th>left_av</th>\n      <th>right_av</th>\n    </tr>\n  </thead>\n  <tbody>\n    <tr>\n      <td>0</td>\n      <td>[0, 0, 0, 0, 0, 18, 253, 253, 253, 205, 90, 19...</td>\n      <td>[0, 0, 0, 0, 0, 18, 253, 253, 198, 11, 0, 2, 7...</td>\n      <td>[0.0, 0.0, 0.0, 0.0, 0.0, 10.5, 211.5, 253.0, ...</td>\n      <td>[0.0, 0.0, 0.0, 0.0, 0.0, 18.0, 253.0, 253.0, ...</td>\n    </tr>\n    <tr>\n      <td>1</td>\n      <td>[0, 0, 0, 0, 0, 0, 54, 224, 252, 253, 179, 84,...</td>\n      <td>[0, 0, 0, 0, 0, 48, 227, 252, 252, 190, 12, 0,...</td>\n      <td>[0.0, 0.0, 0.0, 0.0, 0.0, 0.0, 27.0, 142.0, 25...</td>\n      <td>[0.0, 0.0, 0.0, 0.0, 25.5, 143.0, 240.0, 252.5...</td>\n    </tr>\n    <tr>\n      <td>2</td>\n      <td>[0, 0, 0, 0, 0, 0, 0, 0, 0, 0, 0, 0, 0, 0, 150...</td>\n      <td>[0, 0, 0, 0, 0, 0, 0, 0, 0, 0, 0, 0, 0, 0, 241...</td>\n      <td>[0.0, 0.0, 0.0, 0.0, 0.0, 0.0, 0.0, 0.0, 0.0, ...</td>\n      <td>[0.0, 0.0, 0.0, 0.0, 0.0, 0.0, 0.0, 0.0, 0.0, ...</td>\n    </tr>\n    <tr>\n      <td>3</td>\n      <td>[0, 0, 0, 0, 0, 0, 0, 0, 0, 0, 0, 0, 32, 104, ...</td>\n      <td>[0, 0, 0, 0, 0, 0, 0, 0, 0, 0, 0, 20, 205, 251...</td>\n      <td>[0.0, 0.0, 0.0, 0.0, 0.0, 0.0, 0.0, 0.0, 0.0, ...</td>\n      <td>[0.0, 0.0, 0.0, 0.0, 0.0, 0.0, 0.0, 0.0, 0.0, ...</td>\n    </tr>\n    <tr>\n      <td>4</td>\n      <td>[0, 0, 0, 0, 0, 0, 0, 148, 252, 190, 14, 0, 0,...</td>\n      <td>[0, 0, 0, 0, 0, 0, 0, 210, 253, 65, 0, 0, 8, 2...</td>\n      <td>[0.0, 0.0, 0.0, 0.0, 0.0, 0.0, 0.0, 101.5, 242...</td>\n      <td>[0.0, 0.0, 0.0, 0.0, 0.0, 0.0, 0.0, 231.5, 221...</td>\n    </tr>\n  </tbody>\n</table>\n</div>"
     },
     "metadata": {},
     "execution_count": 157
    }
   ],
   "source": [
    "import pandas as pd\n",
    "import numpy as np\n",
    "df = pd.DataFrame([left_slice_train_X, right_slice_train_X, two_px_left, two_px_right])\n",
    "df = df.T\n",
    "df = df.rename(columns = {0:'left', 1:'right', 2:'left_av', 3:'right_av'})\n",
    "df.head()"
   ]
  },
  {
   "cell_type": "code",
   "execution_count": 158,
   "metadata": {},
   "outputs": [],
   "source": [
    "#The scoring metric that was defined above\n",
    "def scoring_metric(column_name_1,column_name_2):\n",
    "    correct = 0\n",
    "    for i in range(len(df)):\n",
    "        result = abs(np.array(df[column_name_1][i]) - np.array(df[column_name_2].values.tolist())) # vectorized \n",
    "        sums = [sum(result[j]) for j in range(len(result))]\n",
    "        min_value = min(sums)\n",
    "        min_index = sums.index(min_value)\n",
    "        if i == min_index:\n",
    "            correct += 1\n",
    "    print(correct/len(df))"
   ]
  },
  {
   "cell_type": "code",
   "execution_count": 159,
   "metadata": {},
   "outputs": [],
   "source": [
    "# Scoring Metric:\n",
    "# No funny business or transformations of any sort. Taking the left np array and subtracting its values element-wise on the entire right column, summing the abs of the difference, and taking the smallest resulting value as the match.\n",
    "\n",
    "# Ended up using it so often that I just decided to make it a function\n",
    "def scoring(column_1, column_2):\n",
    "    correct = 0\n",
    "    for i in range(len(df)):\n",
    "        result = abs(np.array(df[column_1][i]) - np.array(df[column_2].values.tolist())) # vectorized \n",
    "        sums = [sum(result[j]) for j in range(len(result))]\n",
    "        min_value = min(sums)\n",
    "        min_index = sums.index(min_value)\n",
    "        if i == min_index:\n",
    "            correct += 1\n",
    "    return correct/len(df) \n"
   ]
  },
  {
   "cell_type": "code",
   "execution_count": 160,
   "metadata": {},
   "outputs": [
    {
     "output_type": "execute_result",
     "data": {
      "text/plain": [
       "0.094"
      ]
     },
     "metadata": {},
     "execution_count": 160
    }
   ],
   "source": [
    "scoring('left', 'right')\n",
    "# with 100 samples I have a 0.21 of correctly associating images \n",
    "# with 1000 samples I have a 0.094 of correctly associating images\n",
    "# with 10000 samples I have a 0.0472 of correctly associating images"
   ]
  },
  {
   "cell_type": "code",
   "execution_count": 161,
   "metadata": {},
   "outputs": [
    {
     "output_type": "execute_result",
     "data": {
      "text/plain": [
       "0.077"
      ]
     },
     "metadata": {},
     "execution_count": 161
    }
   ],
   "source": [
    "scoring('left_av', 'right')\n",
    "# with 100 samples I have a 0.2 of correctly associating images \n",
    "# with 1000 samples I have a 0.077 of correctly associating images"
   ]
  },
  {
   "cell_type": "code",
   "execution_count": 162,
   "metadata": {},
   "outputs": [
    {
     "output_type": "execute_result",
     "data": {
      "text/plain": [
       "0.092"
      ]
     },
     "metadata": {},
     "execution_count": 162
    }
   ],
   "source": [
    "scoring('left', 'right_av')\r\n",
    "# with 100 samples I have a 0.2 of correctly associating images \r\n",
    "# with 1000 samples I have a 0.092 of correctly associating images"
   ]
  },
  {
   "cell_type": "code",
   "execution_count": 163,
   "metadata": {},
   "outputs": [
    {
     "output_type": "execute_result",
     "data": {
      "text/plain": [
       "0.052"
      ]
     },
     "metadata": {},
     "execution_count": 163
    }
   ],
   "source": [
    "scoring('left_av', 'right_av')\n",
    "# with 100 samples I have a 0.15 of correctly associating images \n",
    "# with 1000 samples I have a 0.052 of correctly associating images"
   ]
  },
  {
   "cell_type": "code",
   "execution_count": 165,
   "metadata": {},
   "outputs": [],
   "source": [
    "# Repeating elements to \"generate data\" to smoothen \n",
    "repeated_L_2 = [np.repeat(df.left[i],2) for i in range(len(df.left))]\n",
    "df['repeated_left_2'] =  repeated_L_2\n",
    "\n",
    "repeated_R_2 = [np.repeat(df.right[i],2) for i in range(len(df.right))]\n",
    "df['repeated_right_2'] =  repeated_R_2"
   ]
  },
  {
   "cell_type": "code",
   "execution_count": 166,
   "metadata": {},
   "outputs": [],
   "source": [
    "#Window method to average out\n",
    "avg_L_2 = []\n",
    "for i in range(len(df['repeated_left_2'])):\n",
    "    numbers = df['repeated_left_2'][i]\n",
    "    window_size = 3\n",
    "    i = 0\n",
    "    moving_averages = []\n",
    "    while i < len(numbers) - window_size + 1:\n",
    "        this_window = numbers[i : i + window_size]\n",
    "        window_average = sum(this_window) / window_size\n",
    "        moving_averages.append(window_average)\n",
    "        i += 1\n",
    "    avg_L_2.append(moving_averages)\n"
   ]
  },
  {
   "cell_type": "code",
   "execution_count": 167,
   "metadata": {},
   "outputs": [],
   "source": [
    "avg_R_2 = []\n",
    "for i in range(len(df['repeated_right_2'])):\n",
    "    numbers = df['repeated_right_2'][i]\n",
    "    window_size = 3\n",
    "    i = 0\n",
    "    moving_averages = []\n",
    "    while i < len(numbers) - window_size + 1:\n",
    "        this_window = numbers[i : i + window_size]\n",
    "        window_average = sum(this_window) / window_size\n",
    "        moving_averages.append(window_average)\n",
    "        i += 1\n",
    "    avg_R_2.append(moving_averages)"
   ]
  },
  {
   "cell_type": "code",
   "execution_count": 168,
   "metadata": {},
   "outputs": [],
   "source": [
    "df['window_left_2'] =  avg_L_2\n",
    "df['window_right_2'] =  avg_R_2"
   ]
  },
  {
   "cell_type": "code",
   "execution_count": 169,
   "metadata": {},
   "outputs": [
    {
     "output_type": "execute_result",
     "data": {
      "text/plain": [
       "0.198"
      ]
     },
     "metadata": {},
     "execution_count": 169
    }
   ],
   "source": [
    "scoring('window_left_2', 'window_right_2')\n",
    "# Significant imporvement when I apply a \"gradient\"\n",
    "# with 100 samples I have a 0.38 of correctly associating images \n",
    "# with 1000 samples I have a 0.198 of correctly associating images\n",
    "# with 10000 samples I have a 0.089 of correctly associating images"
   ]
  },
  {
   "cell_type": "code",
   "execution_count": 170,
   "metadata": {},
   "outputs": [],
   "source": [
    "repeated_L_3 = [np.repeat(df.left[i],3) for i in range(len(df.left))]\n",
    "df['repeated_left_3'] =  repeated_L_3\n",
    "repeated_R_3 = [np.repeat(df.right[i],3) for i in range(len(df.right))]\n",
    "df['repeated_right_3'] =  repeated_R_3"
   ]
  },
  {
   "cell_type": "code",
   "execution_count": 171,
   "metadata": {},
   "outputs": [],
   "source": [
    "avg_L_3 = []\n",
    "for i in range(len(df['repeated_left_3'])):\n",
    "    numbers = df['repeated_left_3'][i]\n",
    "    window_size = 3\n",
    "    i = 0\n",
    "    moving_averages = []\n",
    "    while i < len(numbers) - window_size + 1:\n",
    "        this_window = numbers[i : i + window_size]\n",
    "        window_average = sum(this_window) / window_size\n",
    "        moving_averages.append(window_average)\n",
    "        i += 1\n",
    "    avg_L_3.append(moving_averages)"
   ]
  },
  {
   "cell_type": "code",
   "execution_count": 172,
   "metadata": {},
   "outputs": [],
   "source": [
    "avg_R_3 = []\n",
    "for i in range(len(df['repeated_right_3'])):\n",
    "    numbers = df['repeated_right_3'][i]\n",
    "    window_size = 3\n",
    "    i = 0\n",
    "    moving_averages = []\n",
    "    while i < len(numbers) - window_size + 1:\n",
    "        this_window = numbers[i : i + window_size]\n",
    "        window_average = sum(this_window) / window_size\n",
    "        moving_averages.append(window_average)\n",
    "        i += 1\n",
    "    avg_R_3.append(moving_averages)"
   ]
  },
  {
   "cell_type": "code",
   "execution_count": 173,
   "metadata": {},
   "outputs": [],
   "source": [
    "df['window_left_3'] =  avg_L_3\n",
    "df['window_right_3'] =  avg_R_3"
   ]
  },
  {
   "cell_type": "code",
   "execution_count": 174,
   "metadata": {},
   "outputs": [
    {
     "output_type": "execute_result",
     "data": {
      "text/plain": [
       "0.194"
      ]
     },
     "metadata": {},
     "execution_count": 174
    }
   ],
   "source": [
    "scoring('window_left_3', 'window_right_3')\n",
    "# with 100 samples I have a 0.36 of correctly associating images \n",
    "# with 1000 samples I have a 0.194 of correctly associating images\n",
    "# with 10000 samples I have a 0.0898 of correctly associating images"
   ]
  },
  {
   "cell_type": "code",
   "execution_count": 175,
   "metadata": {},
   "outputs": [],
   "source": [
    "avg_L_3_2 = []\n",
    "for i in range(len(df['repeated_left_3'])):\n",
    "    numbers = df['repeated_left_3'][i]\n",
    "    window_size = 2\n",
    "    i = 0\n",
    "    moving_averages = []\n",
    "    while i < len(numbers) - window_size + 1:\n",
    "        this_window = numbers[i : i + window_size]\n",
    "        window_average = sum(this_window) / window_size\n",
    "        moving_averages.append(window_average)\n",
    "        i += 1\n",
    "    avg_L_3_2.append(moving_averages)"
   ]
  },
  {
   "cell_type": "code",
   "execution_count": 176,
   "metadata": {},
   "outputs": [],
   "source": [
    "avg_R_3_2 = []\n",
    "for i in range(len(df['repeated_right_3'])):\n",
    "    numbers = df['repeated_right_3'][i]\n",
    "    window_size = 2\n",
    "    i = 0\n",
    "    moving_averages = []\n",
    "    while i < len(numbers) - window_size + 1:\n",
    "        this_window = numbers[i : i + window_size]\n",
    "        window_average = sum(this_window) / window_size\n",
    "        moving_averages.append(window_average)\n",
    "        i += 1\n",
    "    avg_R_3_2.append(moving_averages)"
   ]
  },
  {
   "cell_type": "code",
   "execution_count": 177,
   "metadata": {},
   "outputs": [],
   "source": [
    "df['window_left_3_2'] =  avg_L_3_2\n",
    "df['window_right_3_2'] =  avg_R_3_2"
   ]
  },
  {
   "cell_type": "code",
   "execution_count": 178,
   "metadata": {},
   "outputs": [
    {
     "output_type": "execute_result",
     "data": {
      "text/plain": [
       "0.195"
      ]
     },
     "metadata": {},
     "execution_count": 178
    }
   ],
   "source": [
    "scoring('window_left_3_2', 'window_right_3_2')\n",
    "\n",
    "# with 100 samples I have a 0.36 of correctly associating images \n",
    "# with 1000 samples I have a 0.195 of correctly associating images\n",
    "# with 10000 samples I have a 0.0907 of correctly associating images"
   ]
  },
  {
   "source": [
    "### Given more time:\n",
    "\n",
    "- Combine methods\n",
    "- Utilize the associated label (if the label for the numbers do not match, move on to next min) \n",
    "- Produce a NN with a structure similar to face recognition "
   ],
   "cell_type": "markdown",
   "metadata": {}
  },
  {
   "source": [
    "# Neural Net Time\n",
    "https://www.pyimagesearch.com/2020/11/23/building-image-pairs-for-siamese-networks-with-python/#download-the-code"
   ],
   "cell_type": "markdown",
   "metadata": {}
  },
  {
   "source": [
    "## Data Prep"
   ],
   "cell_type": "markdown",
   "metadata": {}
  },
  {
   "cell_type": "code",
   "execution_count": 293,
   "metadata": {},
   "outputs": [],
   "source": [
    "import pandas as pd\n",
    "import tensorflow.keras.backend as K\n",
    "import numpy as np"
   ]
  },
  {
   "cell_type": "code",
   "execution_count": 294,
   "metadata": {},
   "outputs": [],
   "source": [
    "# Preprocessing steps similar from before, but with the full pictures\n",
    "from keras.datasets import mnist\n",
    "from matplotlib import pyplot\n",
    "\n",
    "(train_X, train_y), (test_X, test_y) = mnist.load_data()\n",
    "data_set_sub_size = 32000\n",
    "\n",
    "# Selecting subset and normalizing \n",
    "train_X = train_X[0:data_set_sub_size]/255\n",
    "test_X = test_X[0:data_set_sub_size]/255\n",
    "train_y = train_y[0:data_set_sub_size]/255\n",
    "test_y = test_y[0:data_set_sub_size]/255\n",
    "\n",
    "height, width = train_X[0].shape\n",
    "half = width//2\n",
    "\n",
    "left_half = np.array([train_X[i][:, :half] for i in range(len(train_X))])\n",
    "right_half = np.array([train_X[i][:, half:] for i in range(len(train_X))])\n",
    "index = np.array(range(len(left_half)))"
   ]
  },
  {
   "cell_type": "code",
   "execution_count": 295,
   "metadata": {},
   "outputs": [],
   "source": [
    "# Generating workable data in the correct format for the ML model\n",
    "def make_pairs(images_left, images_right, labels):\n",
    "    pairImages = [] # Holds (image, image) pair\n",
    "    pairLabels = [] # Holds classifying label\n",
    "\n",
    "    #numClasses = len(np.unique(df['index'])) # gathering total number of classes\n",
    "    idx = labels # creates a list of indicies with the location of our i-th label (should only be one for each)\n",
    "\n",
    "    for idxA in range(len(images_left)):\n",
    "        # Selecting image\n",
    "        currentImage = images_left[idxA]\n",
    "        label = labels[idxA]\n",
    "        # Making positive labels\n",
    "        idxB = idx[label] # Since there is only one matching image, this shouldn't be a huge concern\n",
    "        posImage = images_right[idxB]\n",
    "        pairImages.append([currentImage, posImage]) #Left and right image that are obviously associated by position, but if more examples were had, this would               create a set of (1) matching identifiers \n",
    "        pairLabels.append([1])\n",
    "        # Making negative labels \n",
    "        negIdx = np.random.choice(np.delete(labels, label))\n",
    "        negImage = images_right[negIdx]\n",
    "        pairImages.append([currentImage, negImage])\n",
    "        pairLabels.append([0])\n",
    "    return(np.array(pairImages), np.array(pairLabels))\n"
   ]
  },
  {
   "cell_type": "code",
   "execution_count": 296,
   "metadata": {},
   "outputs": [],
   "source": [
    "#(pairTrain, labelTrain) = make_pairs(left_half, right_half, index) # just to test and get images"
   ]
  },
  {
   "cell_type": "code",
   "execution_count": 297,
   "metadata": {},
   "outputs": [
    {
     "output_type": "display_data",
     "data": {
      "text/plain": "<Figure size 432x288 with 1 Axes>",
      "image/svg+xml": "<?xml version=\"1.0\" encoding=\"utf-8\" standalone=\"no\"?>\r\n<!DOCTYPE svg PUBLIC \"-//W3C//DTD SVG 1.1//EN\"\r\n  \"http://www.w3.org/Graphics/SVG/1.1/DTD/svg11.dtd\">\r\n<!-- Created with matplotlib (https://matplotlib.org/) -->\r\n<svg height=\"248.518125pt\" version=\"1.1\" viewBox=\"0 0 142.845 248.518125\" width=\"142.845pt\" xmlns=\"http://www.w3.org/2000/svg\" xmlns:xlink=\"http://www.w3.org/1999/xlink\">\r\n <defs>\r\n  <style type=\"text/css\">\r\n*{stroke-linecap:butt;stroke-linejoin:round;}\r\n  </style>\r\n </defs>\r\n <g id=\"figure_1\">\r\n  <g id=\"patch_1\">\r\n   <path d=\"M 0 248.518125 \r\nL 142.845 248.518125 \r\nL 142.845 0 \r\nL 0 0 \r\nz\r\n\" style=\"fill:none;\"/>\r\n  </g>\r\n  <g id=\"axes_1\">\r\n   <g id=\"patch_2\">\r\n    <path d=\"M 26.925 224.64 \r\nL 135.645 224.64 \r\nL 135.645 7.2 \r\nL 26.925 7.2 \r\nz\r\n\" style=\"fill:#ffffff;\"/>\r\n   </g>\r\n   <g clip-path=\"url(#pef0ecdac97)\">\r\n    <image height=\"218\" id=\"imagef14dbd15c9\" transform=\"scale(1 -1)translate(0 -218)\" width=\"109\" x=\"26.925\" xlink:href=\"data:image/png;base64,\r\niVBORw0KGgoAAAANSUhEUgAAAG0AAADaCAYAAACsN8ybAAAABHNCSVQICAgIfAhkiAAABHhJREFUeJzt3d9rVnUcwPFztqehjqjAJTTQWswmyjJthkoJpuC6czxeSNHFLjR/BIF3/SAZ1FWpCFM0L1owjIKI2IKowC5abk0JYUMcCAo+V5WIuKZurn+g8znreTbm+9n7dft5vuc58OYLOzxn56Tb0uJ0IpSa+T4B/X9GAzIakNGAjAZkNCCjARkNyGhARgMyGpDRgIwGZDQgowEZDchoQEYDMhqQ0YCMBmQ0IKMBGQ3IaEBGAzIakNGAjAZkNCCjARkNyGhARgMyGpDRgIwGZDQgowEZDchoQEYDMhqQ0YCMBmQ0oML1w5vCDzT8MRnOF387NJvnoxlwpwEZDchoQEYDMhqQ0YCMBpSOl1aEj3i/NnkvPMCOX97OnDW/ebG8s1LInQZkNCCjARkNyGhARgPK/ZO/JqfrhbvZs3c+OBCufaz3fDjXf3OnARkNyGhARgMyGpDRgIwGVFg70Bl+4JMXvg7nDbW3M2cvHxoM144MNYXz5M+b4XjqZjyvVu40IKMBGQ3IaEBGAzIakNGACsnIo+EHju9qCefp+tWZs86zfeHaj88Nh/PWz7Jvz0uSJFl+eCCcVyt3GpDRgIwGZDQgowEZDchoQLn3PW4/EN+7GD2S4m57W7j2hzMnwnmelv79mbOVe36v6NgPM3cakNGAjAZkNCCjARkNaE6fbvDcW5fDtVNrm8N5x5mfwvnW+itlnVeSsJ+84E4DMhqQ0YCMBmQ0IKMBGQ0obf3u/fA6bejF3vAA0SMp9l56I1zbcGxxOL/3eCGc/9x9MnN2+tbT4dr+4sZwPjWafQ0439xpQEYDMhqQ0YCMBmQ0IKMBFZYeia+VXn23GM5/XPNV5myo7YtwbaknuMhLkuT7O6vCeWTsn2Vlr33YudOAjAZkNCCjARkNyGhARgNKt6XF+L7Hrvh3p2Q6zRx17Y5/i9tZ/3d87ByPpLWZs9e2dIRrp8auVvTd88mdBmQ0IKMBGQ3IaEBGAzIaUO51WiWuf7gpnE803q/o+NX82ImIOw3IaEBGAzIakNGAjAY0p3/ya26404CMBmQ0IKMBGQ3IaEBGAzIakNGAjAZkNCCjARkNyGhARgMq1DY3hR8g/0tQtXKnARkNyGhARgMyGpDRgIwGlE6Ungnve9z83sHwAE98/tusnpDyudOAjAZkNCCjARkNyGhARgPKfWVyTU7XDR9lv5r4yRMD5Z2VQu40IKMBGQ3IaEBGAzIaUPx62xkYb8y+YhjveClcu+SbwUq/fkFypwEZDchoQEYDMhqQ0YCMBpTuG349/Gnm6FPxzysPkgeZs0//WhOu/bX92XA+eaMUzhcqdxqQ0YCMBmQ0IKMBGQ3IaEC5j3gf61kXHuDLV05lzp6vi798x2gxnNdtvxYfYIFypwEZDchoQEYDMhqQ0YCMBlTxq7jS9aszZ51n+8K1i9L47bvdzSvLOqdq504DMhqQ0YCMBmQ0IKMB+fZdIHcakNGAjAZkNCCjARkNyGhARgMyGpDRgIwGZDQgowEZDchoQP8CXCikSdVIvXQAAAAASUVORK5CYII=\" y=\"-6.64\"/>\r\n   </g>\r\n   <g id=\"matplotlib.axis_1\">\r\n    <g id=\"xtick_1\">\r\n     <g id=\"line2d_1\">\r\n      <defs>\r\n       <path d=\"M 0 0 \r\nL 0 3.5 \r\n\" id=\"maff2a0f06d\" style=\"stroke:#000000;stroke-width:0.8;\"/>\r\n      </defs>\r\n      <g>\r\n       <use style=\"stroke:#000000;stroke-width:0.8;\" x=\"30.807857\" xlink:href=\"#maff2a0f06d\" y=\"224.64\"/>\r\n      </g>\r\n     </g>\r\n     <g id=\"text_1\">\r\n      <!-- 0 -->\r\n      <defs>\r\n       <path d=\"M 31.78125 66.40625 \r\nQ 24.171875 66.40625 20.328125 58.90625 \r\nQ 16.5 51.421875 16.5 36.375 \r\nQ 16.5 21.390625 20.328125 13.890625 \r\nQ 24.171875 6.390625 31.78125 6.390625 \r\nQ 39.453125 6.390625 43.28125 13.890625 \r\nQ 47.125 21.390625 47.125 36.375 \r\nQ 47.125 51.421875 43.28125 58.90625 \r\nQ 39.453125 66.40625 31.78125 66.40625 \r\nz\r\nM 31.78125 74.21875 \r\nQ 44.046875 74.21875 50.515625 64.515625 \r\nQ 56.984375 54.828125 56.984375 36.375 \r\nQ 56.984375 17.96875 50.515625 8.265625 \r\nQ 44.046875 -1.421875 31.78125 -1.421875 \r\nQ 19.53125 -1.421875 13.0625 8.265625 \r\nQ 6.59375 17.96875 6.59375 36.375 \r\nQ 6.59375 54.828125 13.0625 64.515625 \r\nQ 19.53125 74.21875 31.78125 74.21875 \r\nz\r\n\" id=\"DejaVuSans-48\"/>\r\n      </defs>\r\n      <g transform=\"translate(27.626607 239.238437)scale(0.1 -0.1)\">\r\n       <use xlink:href=\"#DejaVuSans-48\"/>\r\n      </g>\r\n     </g>\r\n    </g>\r\n    <g id=\"xtick_2\">\r\n     <g id=\"line2d_2\">\r\n      <g>\r\n       <use style=\"stroke:#000000;stroke-width:0.8;\" x=\"69.636429\" xlink:href=\"#maff2a0f06d\" y=\"224.64\"/>\r\n      </g>\r\n     </g>\r\n     <g id=\"text_2\">\r\n      <!-- 5 -->\r\n      <defs>\r\n       <path d=\"M 10.796875 72.90625 \r\nL 49.515625 72.90625 \r\nL 49.515625 64.59375 \r\nL 19.828125 64.59375 \r\nL 19.828125 46.734375 \r\nQ 21.96875 47.46875 24.109375 47.828125 \r\nQ 26.265625 48.1875 28.421875 48.1875 \r\nQ 40.625 48.1875 47.75 41.5 \r\nQ 54.890625 34.8125 54.890625 23.390625 \r\nQ 54.890625 11.625 47.5625 5.09375 \r\nQ 40.234375 -1.421875 26.90625 -1.421875 \r\nQ 22.3125 -1.421875 17.546875 -0.640625 \r\nQ 12.796875 0.140625 7.71875 1.703125 \r\nL 7.71875 11.625 \r\nQ 12.109375 9.234375 16.796875 8.0625 \r\nQ 21.484375 6.890625 26.703125 6.890625 \r\nQ 35.15625 6.890625 40.078125 11.328125 \r\nQ 45.015625 15.765625 45.015625 23.390625 \r\nQ 45.015625 31 40.078125 35.4375 \r\nQ 35.15625 39.890625 26.703125 39.890625 \r\nQ 22.75 39.890625 18.8125 39.015625 \r\nQ 14.890625 38.140625 10.796875 36.28125 \r\nz\r\n\" id=\"DejaVuSans-53\"/>\r\n      </defs>\r\n      <g transform=\"translate(66.455179 239.238437)scale(0.1 -0.1)\">\r\n       <use xlink:href=\"#DejaVuSans-53\"/>\r\n      </g>\r\n     </g>\r\n    </g>\r\n    <g id=\"xtick_3\">\r\n     <g id=\"line2d_3\">\r\n      <g>\r\n       <use style=\"stroke:#000000;stroke-width:0.8;\" x=\"108.465\" xlink:href=\"#maff2a0f06d\" y=\"224.64\"/>\r\n      </g>\r\n     </g>\r\n     <g id=\"text_3\">\r\n      <!-- 10 -->\r\n      <defs>\r\n       <path d=\"M 12.40625 8.296875 \r\nL 28.515625 8.296875 \r\nL 28.515625 63.921875 \r\nL 10.984375 60.40625 \r\nL 10.984375 69.390625 \r\nL 28.421875 72.90625 \r\nL 38.28125 72.90625 \r\nL 38.28125 8.296875 \r\nL 54.390625 8.296875 \r\nL 54.390625 0 \r\nL 12.40625 0 \r\nz\r\n\" id=\"DejaVuSans-49\"/>\r\n      </defs>\r\n      <g transform=\"translate(102.1025 239.238437)scale(0.1 -0.1)\">\r\n       <use xlink:href=\"#DejaVuSans-49\"/>\r\n       <use x=\"63.623047\" xlink:href=\"#DejaVuSans-48\"/>\r\n      </g>\r\n     </g>\r\n    </g>\r\n   </g>\r\n   <g id=\"matplotlib.axis_2\">\r\n    <g id=\"ytick_1\">\r\n     <g id=\"line2d_4\">\r\n      <defs>\r\n       <path d=\"M 0 0 \r\nL -3.5 0 \r\n\" id=\"ma66770cb9a\" style=\"stroke:#000000;stroke-width:0.8;\"/>\r\n      </defs>\r\n      <g>\r\n       <use style=\"stroke:#000000;stroke-width:0.8;\" x=\"26.925\" xlink:href=\"#ma66770cb9a\" y=\"11.082857\"/>\r\n      </g>\r\n     </g>\r\n     <g id=\"text_4\">\r\n      <!-- 0 -->\r\n      <g transform=\"translate(13.5625 14.882076)scale(0.1 -0.1)\">\r\n       <use xlink:href=\"#DejaVuSans-48\"/>\r\n      </g>\r\n     </g>\r\n    </g>\r\n    <g id=\"ytick_2\">\r\n     <g id=\"line2d_5\">\r\n      <g>\r\n       <use style=\"stroke:#000000;stroke-width:0.8;\" x=\"26.925\" xlink:href=\"#ma66770cb9a\" y=\"49.911429\"/>\r\n      </g>\r\n     </g>\r\n     <g id=\"text_5\">\r\n      <!-- 5 -->\r\n      <g transform=\"translate(13.5625 53.710647)scale(0.1 -0.1)\">\r\n       <use xlink:href=\"#DejaVuSans-53\"/>\r\n      </g>\r\n     </g>\r\n    </g>\r\n    <g id=\"ytick_3\">\r\n     <g id=\"line2d_6\">\r\n      <g>\r\n       <use style=\"stroke:#000000;stroke-width:0.8;\" x=\"26.925\" xlink:href=\"#ma66770cb9a\" y=\"88.74\"/>\r\n      </g>\r\n     </g>\r\n     <g id=\"text_6\">\r\n      <!-- 10 -->\r\n      <g transform=\"translate(7.2 92.539219)scale(0.1 -0.1)\">\r\n       <use xlink:href=\"#DejaVuSans-49\"/>\r\n       <use x=\"63.623047\" xlink:href=\"#DejaVuSans-48\"/>\r\n      </g>\r\n     </g>\r\n    </g>\r\n    <g id=\"ytick_4\">\r\n     <g id=\"line2d_7\">\r\n      <g>\r\n       <use style=\"stroke:#000000;stroke-width:0.8;\" x=\"26.925\" xlink:href=\"#ma66770cb9a\" y=\"127.568571\"/>\r\n      </g>\r\n     </g>\r\n     <g id=\"text_7\">\r\n      <!-- 15 -->\r\n      <g transform=\"translate(7.2 131.36779)scale(0.1 -0.1)\">\r\n       <use xlink:href=\"#DejaVuSans-49\"/>\r\n       <use x=\"63.623047\" xlink:href=\"#DejaVuSans-53\"/>\r\n      </g>\r\n     </g>\r\n    </g>\r\n    <g id=\"ytick_5\">\r\n     <g id=\"line2d_8\">\r\n      <g>\r\n       <use style=\"stroke:#000000;stroke-width:0.8;\" x=\"26.925\" xlink:href=\"#ma66770cb9a\" y=\"166.397143\"/>\r\n      </g>\r\n     </g>\r\n     <g id=\"text_8\">\r\n      <!-- 20 -->\r\n      <defs>\r\n       <path d=\"M 19.1875 8.296875 \r\nL 53.609375 8.296875 \r\nL 53.609375 0 \r\nL 7.328125 0 \r\nL 7.328125 8.296875 \r\nQ 12.9375 14.109375 22.625 23.890625 \r\nQ 32.328125 33.6875 34.8125 36.53125 \r\nQ 39.546875 41.84375 41.421875 45.53125 \r\nQ 43.3125 49.21875 43.3125 52.78125 \r\nQ 43.3125 58.59375 39.234375 62.25 \r\nQ 35.15625 65.921875 28.609375 65.921875 \r\nQ 23.96875 65.921875 18.8125 64.3125 \r\nQ 13.671875 62.703125 7.8125 59.421875 \r\nL 7.8125 69.390625 \r\nQ 13.765625 71.78125 18.9375 73 \r\nQ 24.125 74.21875 28.421875 74.21875 \r\nQ 39.75 74.21875 46.484375 68.546875 \r\nQ 53.21875 62.890625 53.21875 53.421875 \r\nQ 53.21875 48.921875 51.53125 44.890625 \r\nQ 49.859375 40.875 45.40625 35.40625 \r\nQ 44.1875 33.984375 37.640625 27.21875 \r\nQ 31.109375 20.453125 19.1875 8.296875 \r\nz\r\n\" id=\"DejaVuSans-50\"/>\r\n      </defs>\r\n      <g transform=\"translate(7.2 170.196362)scale(0.1 -0.1)\">\r\n       <use xlink:href=\"#DejaVuSans-50\"/>\r\n       <use x=\"63.623047\" xlink:href=\"#DejaVuSans-48\"/>\r\n      </g>\r\n     </g>\r\n    </g>\r\n    <g id=\"ytick_6\">\r\n     <g id=\"line2d_9\">\r\n      <g>\r\n       <use style=\"stroke:#000000;stroke-width:0.8;\" x=\"26.925\" xlink:href=\"#ma66770cb9a\" y=\"205.225714\"/>\r\n      </g>\r\n     </g>\r\n     <g id=\"text_9\">\r\n      <!-- 25 -->\r\n      <g transform=\"translate(7.2 209.024933)scale(0.1 -0.1)\">\r\n       <use xlink:href=\"#DejaVuSans-50\"/>\r\n       <use x=\"63.623047\" xlink:href=\"#DejaVuSans-53\"/>\r\n      </g>\r\n     </g>\r\n    </g>\r\n   </g>\r\n   <g id=\"patch_3\">\r\n    <path d=\"M 26.925 224.64 \r\nL 26.925 7.2 \r\n\" style=\"fill:none;stroke:#000000;stroke-linecap:square;stroke-linejoin:miter;stroke-width:0.8;\"/>\r\n   </g>\r\n   <g id=\"patch_4\">\r\n    <path d=\"M 135.645 224.64 \r\nL 135.645 7.2 \r\n\" style=\"fill:none;stroke:#000000;stroke-linecap:square;stroke-linejoin:miter;stroke-width:0.8;\"/>\r\n   </g>\r\n   <g id=\"patch_5\">\r\n    <path d=\"M 26.925 224.64 \r\nL 135.645 224.64 \r\n\" style=\"fill:none;stroke:#000000;stroke-linecap:square;stroke-linejoin:miter;stroke-width:0.8;\"/>\r\n   </g>\r\n   <g id=\"patch_6\">\r\n    <path d=\"M 26.925 7.2 \r\nL 135.645 7.2 \r\n\" style=\"fill:none;stroke:#000000;stroke-linecap:square;stroke-linejoin:miter;stroke-width:0.8;\"/>\r\n   </g>\r\n  </g>\r\n </g>\r\n <defs>\r\n  <clipPath id=\"pef0ecdac97\">\r\n   <rect height=\"217.44\" width=\"108.72\" x=\"26.925\" y=\"7.2\"/>\r\n  </clipPath>\r\n </defs>\r\n</svg>\r\n",
      "image/png": "[encoded data removed]"
     },
     "metadata": {
      "needs_background": "light"
     }
    },
    {
     "output_type": "display_data",
     "data": {
      "text/plain": "<Figure size 432x288 with 1 Axes>",
      "image/svg+xml": "<?xml version=\"1.0\" encoding=\"utf-8\" standalone=\"no\"?>\r\n<!DOCTYPE svg PUBLIC \"-//W3C//DTD SVG 1.1//EN\"\r\n  \"http://www.w3.org/Graphics/SVG/1.1/DTD/svg11.dtd\">\r\n<!-- Created with matplotlib (https://matplotlib.org/) -->\r\n<svg height=\"248.518125pt\" version=\"1.1\" viewBox=\"0 0 142.845 248.518125\" width=\"142.845pt\" xmlns=\"http://www.w3.org/2000/svg\" xmlns:xlink=\"http://www.w3.org/1999/xlink\">\r\n <defs>\r\n  <style type=\"text/css\">\r\n*{stroke-linecap:butt;stroke-linejoin:round;}\r\n  </style>\r\n </defs>\r\n <g id=\"figure_1\">\r\n  <g id=\"patch_1\">\r\n   <path d=\"M 0 248.518125 \r\nL 142.845 248.518125 \r\nL 142.845 0 \r\nL 0 0 \r\nz\r\n\" style=\"fill:none;\"/>\r\n  </g>\r\n  <g id=\"axes_1\">\r\n   <g id=\"patch_2\">\r\n    <path d=\"M 26.925 224.64 \r\nL 135.645 224.64 \r\nL 135.645 7.2 \r\nL 26.925 7.2 \r\nz\r\n\" style=\"fill:#ffffff;\"/>\r\n   </g>\r\n   <g clip-path=\"url(#p25a8d13d06)\">\r\n    <image height=\"218\" id=\"image1ffe89ba07\" transform=\"scale(1 -1)translate(0 -218)\" width=\"109\" x=\"26.925\" xlink:href=\"data:image/png;base64,\r\niVBORw0KGgoAAAANSUhEUgAAAG0AAADaCAYAAACsN8ybAAAABHNCSVQICAgIfAhkiAAABDVJREFUeJzt3cuLjXEcx/HnnDnjNikZmprFzCBMUQixkHIrMqbcYmHlUmM2Frb+A1mQbJBbWdhMU66NcpdCFpOQMJQFQlMaZAYry+f7NMZx5v3M+7X99DhH7/nVeTrjUVhZ2PQrEUqx0m9Ag2c0IKMBGQ3IaEBGAzIakNGAjAZkNCCjARkNyGhARgMyGpDRgIwGZDQgowEZDchoQEYDMhqQ0YCMBmQ0IKMBGQ3IaEBGAzIakNGAjAZkNCCjARkNyGhARgMyGpDRgIwGZDQgowEZDchoQEYDKlX6DVRK77bF4T5197NwP9V0Ndx/Jj8H/Z7+mHNne7h70oCMBmQ0IKMBGQ3IaEBGAyrk9RHv/cvnh/uxEwfDvb40OtyLGT/vQ7lPy+JJAzIakNGAjAZkNCCjAeX2q5mB0fHPY9ZH+iyrdraF+4e51albR9v+8NrG0qhw96QBGQ3IaEBGAzIakNGAjAaU2/u01+sKQ7p+RfeWcK+5dD/c6/vmpW4vd0wMr20sfQl3TxqQ0YCMBmQ0IKMBGQ3IaEC5vU/LkvUrcMVC+X6zsLrQH7921nv7l29G/4fRgIwGZDQgowEZDchoQLm9T6vurQr3rH+K1DX7XLi3JgvDvXjjUerW8WlBeO2S+tvxnx2uGpaMBmQ0IKMBGQ3IaEC5/chf213ehza8OBA/xW7a3nup26vNdeG1Lcc3hLsnDchoQEYDMhqQ0YCMBmQ0oNw+ha6qNv7nRD3tzeH+qC1+St2Nr+PCve3CjtRt+p70e7gkSZLC/Fnh7kkDMhqQ0YCMBmQ0IKMBGQ0ot9+nDXz8FO7je4Z2e7ps7Ldw37/mbOp29OS68NpfDx+HuycNyGhARgMyGpDRgIwGZDSg3N6nZam9GP/vurvaV4T76cab4d5a8zl1O1wXfxcXP+Ddk4ZkNCCjARkNyGhARgMyGtCIvU9LSvFf/Vb3tHD/0XAt3KNHXrxdGr/2lMvh7EkjMhqQ0YCMBmQ0IKMBjdiP/APv3of75LvxR/5k7d+/9o8JA+FeNSN+bU8akNGAjAZkNCCjARkNyGhAuX0kRbnNfFAd7vvqrqduXX0N4bVntq4Od08akNGAjAZkNCCjARkNyGhA3qeVyfNDi1K3JxsPh9e2Pl0f7p40IKMBGQ3IaEBGAzIakNGARuzvPZbbjFNfUrfO1ZPCa883d4a7Jw3IaEBGAzIakNGAjAZkNCC/T6uA72sWhvuVY0fC3ZMGZDQgowEZDchoQEYD8quZChjzvi/cW55uCHdPGpDRgIwGZDQgowEZDchoQH41MwyVmuJHVnjSgIwGZDQgowEZDchoQEYD8vu0Yai/5024e9KAjAZkNCCjARkNyGhARgMyGpDRgIwGZDQgowEZDchoQEYDMhqQ0YCMBmQ0IKMBGQ3IaEBGAzIakNGAjAZkNCCjARkNyGhAvwHq9nqROP1dHwAAAABJRU5ErkJggg==\" y=\"-6.64\"/>\r\n   </g>\r\n   <g id=\"matplotlib.axis_1\">\r\n    <g id=\"xtick_1\">\r\n     <g id=\"line2d_1\">\r\n      <defs>\r\n       <path d=\"M 0 0 \r\nL 0 3.5 \r\n\" id=\"m040901d27d\" style=\"stroke:#000000;stroke-width:0.8;\"/>\r\n      </defs>\r\n      <g>\r\n       <use style=\"stroke:#000000;stroke-width:0.8;\" x=\"30.807857\" xlink:href=\"#m040901d27d\" y=\"224.64\"/>\r\n      </g>\r\n     </g>\r\n     <g id=\"text_1\">\r\n      <!-- 0 -->\r\n      <defs>\r\n       <path d=\"M 31.78125 66.40625 \r\nQ 24.171875 66.40625 20.328125 58.90625 \r\nQ 16.5 51.421875 16.5 36.375 \r\nQ 16.5 21.390625 20.328125 13.890625 \r\nQ 24.171875 6.390625 31.78125 6.390625 \r\nQ 39.453125 6.390625 43.28125 13.890625 \r\nQ 47.125 21.390625 47.125 36.375 \r\nQ 47.125 51.421875 43.28125 58.90625 \r\nQ 39.453125 66.40625 31.78125 66.40625 \r\nz\r\nM 31.78125 74.21875 \r\nQ 44.046875 74.21875 50.515625 64.515625 \r\nQ 56.984375 54.828125 56.984375 36.375 \r\nQ 56.984375 17.96875 50.515625 8.265625 \r\nQ 44.046875 -1.421875 31.78125 -1.421875 \r\nQ 19.53125 -1.421875 13.0625 8.265625 \r\nQ 6.59375 17.96875 6.59375 36.375 \r\nQ 6.59375 54.828125 13.0625 64.515625 \r\nQ 19.53125 74.21875 31.78125 74.21875 \r\nz\r\n\" id=\"DejaVuSans-48\"/>\r\n      </defs>\r\n      <g transform=\"translate(27.626607 239.238437)scale(0.1 -0.1)\">\r\n       <use xlink:href=\"#DejaVuSans-48\"/>\r\n      </g>\r\n     </g>\r\n    </g>\r\n    <g id=\"xtick_2\">\r\n     <g id=\"line2d_2\">\r\n      <g>\r\n       <use style=\"stroke:#000000;stroke-width:0.8;\" x=\"69.636429\" xlink:href=\"#m040901d27d\" y=\"224.64\"/>\r\n      </g>\r\n     </g>\r\n     <g id=\"text_2\">\r\n      <!-- 5 -->\r\n      <defs>\r\n       <path d=\"M 10.796875 72.90625 \r\nL 49.515625 72.90625 \r\nL 49.515625 64.59375 \r\nL 19.828125 64.59375 \r\nL 19.828125 46.734375 \r\nQ 21.96875 47.46875 24.109375 47.828125 \r\nQ 26.265625 48.1875 28.421875 48.1875 \r\nQ 40.625 48.1875 47.75 41.5 \r\nQ 54.890625 34.8125 54.890625 23.390625 \r\nQ 54.890625 11.625 47.5625 5.09375 \r\nQ 40.234375 -1.421875 26.90625 -1.421875 \r\nQ 22.3125 -1.421875 17.546875 -0.640625 \r\nQ 12.796875 0.140625 7.71875 1.703125 \r\nL 7.71875 11.625 \r\nQ 12.109375 9.234375 16.796875 8.0625 \r\nQ 21.484375 6.890625 26.703125 6.890625 \r\nQ 35.15625 6.890625 40.078125 11.328125 \r\nQ 45.015625 15.765625 45.015625 23.390625 \r\nQ 45.015625 31 40.078125 35.4375 \r\nQ 35.15625 39.890625 26.703125 39.890625 \r\nQ 22.75 39.890625 18.8125 39.015625 \r\nQ 14.890625 38.140625 10.796875 36.28125 \r\nz\r\n\" id=\"DejaVuSans-53\"/>\r\n      </defs>\r\n      <g transform=\"translate(66.455179 239.238437)scale(0.1 -0.1)\">\r\n       <use xlink:href=\"#DejaVuSans-53\"/>\r\n      </g>\r\n     </g>\r\n    </g>\r\n    <g id=\"xtick_3\">\r\n     <g id=\"line2d_3\">\r\n      <g>\r\n       <use style=\"stroke:#000000;stroke-width:0.8;\" x=\"108.465\" xlink:href=\"#m040901d27d\" y=\"224.64\"/>\r\n      </g>\r\n     </g>\r\n     <g id=\"text_3\">\r\n      <!-- 10 -->\r\n      <defs>\r\n       <path d=\"M 12.40625 8.296875 \r\nL 28.515625 8.296875 \r\nL 28.515625 63.921875 \r\nL 10.984375 60.40625 \r\nL 10.984375 69.390625 \r\nL 28.421875 72.90625 \r\nL 38.28125 72.90625 \r\nL 38.28125 8.296875 \r\nL 54.390625 8.296875 \r\nL 54.390625 0 \r\nL 12.40625 0 \r\nz\r\n\" id=\"DejaVuSans-49\"/>\r\n      </defs>\r\n      <g transform=\"translate(102.1025 239.238437)scale(0.1 -0.1)\">\r\n       <use xlink:href=\"#DejaVuSans-49\"/>\r\n       <use x=\"63.623047\" xlink:href=\"#DejaVuSans-48\"/>\r\n      </g>\r\n     </g>\r\n    </g>\r\n   </g>\r\n   <g id=\"matplotlib.axis_2\">\r\n    <g id=\"ytick_1\">\r\n     <g id=\"line2d_4\">\r\n      <defs>\r\n       <path d=\"M 0 0 \r\nL -3.5 0 \r\n\" id=\"m8abd9726d2\" style=\"stroke:#000000;stroke-width:0.8;\"/>\r\n      </defs>\r\n      <g>\r\n       <use style=\"stroke:#000000;stroke-width:0.8;\" x=\"26.925\" xlink:href=\"#m8abd9726d2\" y=\"11.082857\"/>\r\n      </g>\r\n     </g>\r\n     <g id=\"text_4\">\r\n      <!-- 0 -->\r\n      <g transform=\"translate(13.5625 14.882076)scale(0.1 -0.1)\">\r\n       <use xlink:href=\"#DejaVuSans-48\"/>\r\n      </g>\r\n     </g>\r\n    </g>\r\n    <g id=\"ytick_2\">\r\n     <g id=\"line2d_5\">\r\n      <g>\r\n       <use style=\"stroke:#000000;stroke-width:0.8;\" x=\"26.925\" xlink:href=\"#m8abd9726d2\" y=\"49.911429\"/>\r\n      </g>\r\n     </g>\r\n     <g id=\"text_5\">\r\n      <!-- 5 -->\r\n      <g transform=\"translate(13.5625 53.710647)scale(0.1 -0.1)\">\r\n       <use xlink:href=\"#DejaVuSans-53\"/>\r\n      </g>\r\n     </g>\r\n    </g>\r\n    <g id=\"ytick_3\">\r\n     <g id=\"line2d_6\">\r\n      <g>\r\n       <use style=\"stroke:#000000;stroke-width:0.8;\" x=\"26.925\" xlink:href=\"#m8abd9726d2\" y=\"88.74\"/>\r\n      </g>\r\n     </g>\r\n     <g id=\"text_6\">\r\n      <!-- 10 -->\r\n      <g transform=\"translate(7.2 92.539219)scale(0.1 -0.1)\">\r\n       <use xlink:href=\"#DejaVuSans-49\"/>\r\n       <use x=\"63.623047\" xlink:href=\"#DejaVuSans-48\"/>\r\n      </g>\r\n     </g>\r\n    </g>\r\n    <g id=\"ytick_4\">\r\n     <g id=\"line2d_7\">\r\n      <g>\r\n       <use style=\"stroke:#000000;stroke-width:0.8;\" x=\"26.925\" xlink:href=\"#m8abd9726d2\" y=\"127.568571\"/>\r\n      </g>\r\n     </g>\r\n     <g id=\"text_7\">\r\n      <!-- 15 -->\r\n      <g transform=\"translate(7.2 131.36779)scale(0.1 -0.1)\">\r\n       <use xlink:href=\"#DejaVuSans-49\"/>\r\n       <use x=\"63.623047\" xlink:href=\"#DejaVuSans-53\"/>\r\n      </g>\r\n     </g>\r\n    </g>\r\n    <g id=\"ytick_5\">\r\n     <g id=\"line2d_8\">\r\n      <g>\r\n       <use style=\"stroke:#000000;stroke-width:0.8;\" x=\"26.925\" xlink:href=\"#m8abd9726d2\" y=\"166.397143\"/>\r\n      </g>\r\n     </g>\r\n     <g id=\"text_8\">\r\n      <!-- 20 -->\r\n      <defs>\r\n       <path d=\"M 19.1875 8.296875 \r\nL 53.609375 8.296875 \r\nL 53.609375 0 \r\nL 7.328125 0 \r\nL 7.328125 8.296875 \r\nQ 12.9375 14.109375 22.625 23.890625 \r\nQ 32.328125 33.6875 34.8125 36.53125 \r\nQ 39.546875 41.84375 41.421875 45.53125 \r\nQ 43.3125 49.21875 43.3125 52.78125 \r\nQ 43.3125 58.59375 39.234375 62.25 \r\nQ 35.15625 65.921875 28.609375 65.921875 \r\nQ 23.96875 65.921875 18.8125 64.3125 \r\nQ 13.671875 62.703125 7.8125 59.421875 \r\nL 7.8125 69.390625 \r\nQ 13.765625 71.78125 18.9375 73 \r\nQ 24.125 74.21875 28.421875 74.21875 \r\nQ 39.75 74.21875 46.484375 68.546875 \r\nQ 53.21875 62.890625 53.21875 53.421875 \r\nQ 53.21875 48.921875 51.53125 44.890625 \r\nQ 49.859375 40.875 45.40625 35.40625 \r\nQ 44.1875 33.984375 37.640625 27.21875 \r\nQ 31.109375 20.453125 19.1875 8.296875 \r\nz\r\n\" id=\"DejaVuSans-50\"/>\r\n      </defs>\r\n      <g transform=\"translate(7.2 170.196362)scale(0.1 -0.1)\">\r\n       <use xlink:href=\"#DejaVuSans-50\"/>\r\n       <use x=\"63.623047\" xlink:href=\"#DejaVuSans-48\"/>\r\n      </g>\r\n     </g>\r\n    </g>\r\n    <g id=\"ytick_6\">\r\n     <g id=\"line2d_9\">\r\n      <g>\r\n       <use style=\"stroke:#000000;stroke-width:0.8;\" x=\"26.925\" xlink:href=\"#m8abd9726d2\" y=\"205.225714\"/>\r\n      </g>\r\n     </g>\r\n     <g id=\"text_9\">\r\n      <!-- 25 -->\r\n      <g transform=\"translate(7.2 209.024933)scale(0.1 -0.1)\">\r\n       <use xlink:href=\"#DejaVuSans-50\"/>\r\n       <use x=\"63.623047\" xlink:href=\"#DejaVuSans-53\"/>\r\n      </g>\r\n     </g>\r\n    </g>\r\n   </g>\r\n   <g id=\"patch_3\">\r\n    <path d=\"M 26.925 224.64 \r\nL 26.925 7.2 \r\n\" style=\"fill:none;stroke:#000000;stroke-linecap:square;stroke-linejoin:miter;stroke-width:0.8;\"/>\r\n   </g>\r\n   <g id=\"patch_4\">\r\n    <path d=\"M 135.645 224.64 \r\nL 135.645 7.2 \r\n\" style=\"fill:none;stroke:#000000;stroke-linecap:square;stroke-linejoin:miter;stroke-width:0.8;\"/>\r\n   </g>\r\n   <g id=\"patch_5\">\r\n    <path d=\"M 26.925 224.64 \r\nL 135.645 224.64 \r\n\" style=\"fill:none;stroke:#000000;stroke-linecap:square;stroke-linejoin:miter;stroke-width:0.8;\"/>\r\n   </g>\r\n   <g id=\"patch_6\">\r\n    <path d=\"M 26.925 7.2 \r\nL 135.645 7.2 \r\n\" style=\"fill:none;stroke:#000000;stroke-linecap:square;stroke-linejoin:miter;stroke-width:0.8;\"/>\r\n   </g>\r\n  </g>\r\n </g>\r\n <defs>\r\n  <clipPath id=\"p25a8d13d06\">\r\n   <rect height=\"217.44\" width=\"108.72\" x=\"26.925\" y=\"7.2\"/>\r\n  </clipPath>\r\n </defs>\r\n</svg>\r\n",
      "image/png": "[encoded data removed]"
     },
     "metadata": {
      "needs_background": "light"
     }
    },
    {
     "output_type": "stream",
     "name": "stdout",
     "text": [
      "[1]\n"
     ]
    }
   ],
   "source": [
    "# Graph verification, evens should match, odds should not \n",
    "from matplotlib import pyplot\n",
    "x = 26\n",
    "pyplot.imshow(pairTrain[x][1])#, cmap=pyplot.get_cmap('gray')\n",
    "pyplot.show()\n",
    "pyplot.imshow(pairTrain[x][0])#, cmap=pyplot.get_cmap('gray')\n",
    "pyplot.show()\n",
    "print(labelTrain[x])"
   ]
  },
  {
   "source": [
    "## Model Building Time"
   ],
   "cell_type": "markdown",
   "metadata": {}
  },
  {
   "cell_type": "code",
   "execution_count": 298,
   "metadata": {},
   "outputs": [],
   "source": [
    "# The usual suspects (and lambda)\n",
    "from tensorflow.keras.models import Model\n",
    "from tensorflow.keras.layers import Input\n",
    "from tensorflow.keras.layers import Conv2D\n",
    "from tensorflow.keras.layers import Dense\n",
    "from tensorflow.keras.layers import Dropout\n",
    "from tensorflow.keras.layers import GlobalAveragePooling2D\n",
    "from tensorflow.keras.layers import MaxPooling2D\n",
    "from tensorflow.keras.layers import Lambda\n",
    "import tensorflow.keras.backend as K"
   ]
  },
  {
   "cell_type": "code",
   "execution_count": 299,
   "metadata": {},
   "outputs": [],
   "source": [
    "def build_siamese_model(inputShape, embeddingDim=48): # inputShape = 14x28x1\n",
    "\t# specify the inputs for the feature extractor network\n",
    "\tinputs = Input(inputShape)\n",
    "\t# define the first set of CONV => RELU => POOL => DROPOUT layers\n",
    "\tx = Conv2D(64, (2, 2), padding=\"same\", activation=\"relu\")(inputs)\n",
    "\tx = MaxPooling2D(pool_size=(2, 2))(x)\n",
    "\tx = Dropout(0.3)(x)\n",
    "\t# second set of CONV => RELU => POOL => DROPOUT layers\n",
    "\tx = Conv2D(64, (2, 2), padding=\"same\", activation=\"relu\")(x)\n",
    "\tx = MaxPooling2D(pool_size=2)(x)\n",
    "\tx = Dropout(0.3)(x)\n",
    "    # prepare the final outputs\n",
    "\tpooledOutput = GlobalAveragePooling2D()(x)\n",
    "\toutputs = Dense(embeddingDim)(pooledOutput)\n",
    "\t# build the model\n",
    "\tmodel = Model(inputs, outputs)\n",
    "\t# return the model to the calling function\n",
    "\treturn model"
   ]
  },
  {
   "cell_type": "code",
   "execution_count": 300,
   "metadata": {},
   "outputs": [],
   "source": [
    "def euclidean_distance(vectors): # Not really the cost function I want to use. Will implement hungarian method once this sum bitch actually runs \n",
    "\t# unpack the vectors into separate lists\n",
    "\t(featsA, featsB) = vectors\n",
    "\t# compute the sum of squared distances between the vectors\n",
    "\tsumSquared = K.sum(K.square(featsA - featsB), axis=1,\n",
    "\t\tkeepdims=True)\n",
    "\t# return the euclidean distance between the vectors\n",
    "\treturn K.sqrt(K.maximum(sumSquared, K.epsilon()))"
   ]
  },
  {
   "cell_type": "code",
   "execution_count": 301,
   "metadata": {},
   "outputs": [],
   "source": [
    "def plot_training(H, plotPath):\n",
    "\t# construct a plot that plots and saves the training history\n",
    "\tplt.style.use(\"ggplot\")\n",
    "\tplt.figure()\n",
    "\tplt.plot(H.history[\"loss\"], label=\"train_loss\")\n",
    "\tplt.plot(H.history[\"val_loss\"], label=\"val_loss\")\n",
    "\tplt.plot(H.history[\"accuracy\"], label=\"train_acc\")\n",
    "\tplt.plot(H.history[\"val_accuracy\"], label=\"val_acc\")\n",
    "\tplt.title(\"Training Loss and Accuracy\")\n",
    "\tplt.xlabel(\"Epoch #\")\n",
    "\tplt.ylabel(\"Loss/Accuracy\")\n",
    "\tplt.legend(loc=\"lower left\")"
   ]
  },
  {
   "cell_type": "code",
   "execution_count": 302,
   "metadata": {},
   "outputs": [],
   "source": [
    "# Training\n",
    "train_X = np.expand_dims(train_X, axis=-1)\n",
    "left_half = np.array([train_X[i][:, :half] for i in range(len(train_X))])\n",
    "right_half = np.array([train_X[i][:, half:] for i in range(len(train_X))])\n",
    "index = list(range(len(left_half)))\n",
    "(pairTrain, labelTrain) = make_pairs(left_half, right_half, index)\n",
    "\n",
    "# Testing \n",
    "test_X = np.expand_dims(test_X, axis=-1)\n",
    "left_half_test = np.array([test_X[i][:, :half] for i in range(len(test_X))])\n",
    "right_half_test = np.array([test_X[i][:, half:] for i in range(len(test_X))])\n",
    "index = list(range(len(left_half_test)))\n",
    "(pairTest, labelTest) = make_pairs(left_half_test, right_half_test, index)"
   ]
  },
  {
   "cell_type": "code",
   "execution_count": 303,
   "metadata": {},
   "outputs": [
    {
     "output_type": "stream",
     "name": "stdout",
     "text": [
      "[INFO] building siamese network...\n"
     ]
    }
   ],
   "source": [
    "print(\"[INFO] building siamese network...\")\n",
    "imgA = Input(shape=(28,14,1))\n",
    "imgB = Input(shape=(28,14,1))\n",
    "featureExtractor = build_siamese_model((28,14,1))\n",
    "featsA = featureExtractor(imgA)\n",
    "featsB = featureExtractor(imgB)"
   ]
  },
  {
   "cell_type": "code",
   "execution_count": 304,
   "metadata": {},
   "outputs": [],
   "source": [
    "distance = Lambda(euclidean_distance)([featsA, featsB])\n",
    "outputs = Dense(1, activation=\"sigmoid\")(distance)\n",
    "model = Model(inputs=[imgA, imgB], outputs=outputs)"
   ]
  },
  {
   "cell_type": "code",
   "execution_count": 305,
   "metadata": {},
   "outputs": [
    {
     "output_type": "stream",
     "name": "stdout",
     "text": [
      "[INFO] compiling model...\n",
      "[INFO] training model...\n",
      "Train on 64000 samples, validate on 20000 samples\n",
      "Epoch 1/100\n",
      "64000/64000 [==============================] - 66s 1ms/sample - loss: 0.6932 - acc: 0.4982 - val_loss: 0.6930 - val_acc: 0.5137\n",
      "Epoch 2/100\n",
      "64000/64000 [==============================] - 69s 1ms/sample - loss: 0.6913 - acc: 0.5268 - val_loss: 0.6855 - val_acc: 0.5519\n",
      "Epoch 3/100\n",
      "64000/64000 [==============================] - 67s 1ms/sample - loss: 0.6812 - acc: 0.5649 - val_loss: 0.6741 - val_acc: 0.5893\n",
      "Epoch 4/100\n",
      "64000/64000 [==============================] - 71s 1ms/sample - loss: 0.6755 - acc: 0.5776 - val_loss: 0.6684 - val_acc: 0.5957\n",
      "Epoch 5/100\n",
      "64000/64000 [==============================] - 65s 1ms/sample - loss: 0.6719 - acc: 0.5853 - val_loss: 0.6662 - val_acc: 0.5946\n",
      "Epoch 6/100\n",
      "64000/64000 [==============================] - 57s 885us/sample - loss: 0.6695 - acc: 0.5892 - val_loss: 0.6613 - val_acc: 0.6043\n",
      "Epoch 7/100\n",
      "64000/64000 [==============================] - 57s 887us/sample - loss: 0.6670 - acc: 0.5942 - val_loss: 0.6582 - val_acc: 0.6115\n",
      "Epoch 8/100\n",
      "64000/64000 [==============================] - 56s 882us/sample - loss: 0.6640 - acc: 0.5987 - val_loss: 0.6526 - val_acc: 0.6188\n",
      "Epoch 9/100\n",
      "64000/64000 [==============================] - 56s 882us/sample - loss: 0.6622 - acc: 0.6019 - val_loss: 0.6528 - val_acc: 0.6140\n",
      "Epoch 10/100\n",
      "64000/64000 [==============================] - 58s 903us/sample - loss: 0.6593 - acc: 0.6081 - val_loss: 0.6485 - val_acc: 0.6249\n",
      "Epoch 11/100\n",
      "64000/64000 [==============================] - 56s 877us/sample - loss: 0.6565 - acc: 0.6121 - val_loss: 0.6447 - val_acc: 0.6288\n",
      "Epoch 12/100\n",
      "64000/64000 [==============================] - 56s 878us/sample - loss: 0.6552 - acc: 0.6135 - val_loss: 0.6416 - val_acc: 0.6345\n",
      "Epoch 13/100\n",
      "64000/64000 [==============================] - 57s 890us/sample - loss: 0.6537 - acc: 0.6167 - val_loss: 0.6419 - val_acc: 0.6336\n",
      "Epoch 14/100\n",
      "64000/64000 [==============================] - 56s 882us/sample - loss: 0.6505 - acc: 0.6211 - val_loss: 0.6367 - val_acc: 0.6406\n",
      "Epoch 15/100\n",
      "64000/64000 [==============================] - 57s 886us/sample - loss: 0.6497 - acc: 0.6222 - val_loss: 0.6355 - val_acc: 0.6433\n",
      "Epoch 16/100\n",
      "64000/64000 [==============================] - 57s 883us/sample - loss: 0.6485 - acc: 0.6223 - val_loss: 0.6353 - val_acc: 0.6438\n",
      "Epoch 17/100\n",
      "64000/64000 [==============================] - 57s 885us/sample - loss: 0.6465 - acc: 0.6261 - val_loss: 0.6316 - val_acc: 0.6474\n",
      "Epoch 18/100\n",
      "64000/64000 [==============================] - 56s 881us/sample - loss: 0.6456 - acc: 0.6277 - val_loss: 0.6299 - val_acc: 0.6517\n",
      "Epoch 19/100\n",
      "64000/64000 [==============================] - 57s 888us/sample - loss: 0.6445 - acc: 0.6292 - val_loss: 0.6320 - val_acc: 0.6444\n",
      "Epoch 20/100\n",
      "64000/64000 [==============================] - 56s 882us/sample - loss: 0.6452 - acc: 0.6271 - val_loss: 0.6318 - val_acc: 0.6450\n",
      "Epoch 21/100\n",
      "64000/64000 [==============================] - 56s 882us/sample - loss: 0.6441 - acc: 0.6295 - val_loss: 0.6333 - val_acc: 0.6423\n",
      "Epoch 22/100\n",
      "64000/64000 [==============================] - 57s 884us/sample - loss: 0.6422 - acc: 0.6313 - val_loss: 0.6332 - val_acc: 0.6417\n",
      "Epoch 23/100\n",
      "64000/64000 [==============================] - 57s 885us/sample - loss: 0.6415 - acc: 0.6323 - val_loss: 0.6243 - val_acc: 0.6592\n",
      "Epoch 24/100\n",
      "64000/64000 [==============================] - 57s 884us/sample - loss: 0.6410 - acc: 0.6349 - val_loss: 0.6282 - val_acc: 0.6529\n",
      "Epoch 25/100\n",
      "64000/64000 [==============================] - 57s 884us/sample - loss: 0.6398 - acc: 0.6348 - val_loss: 0.6263 - val_acc: 0.6543\n",
      "Epoch 26/100\n",
      "64000/64000 [==============================] - 57s 890us/sample - loss: 0.6393 - acc: 0.6358 - val_loss: 0.6219 - val_acc: 0.6589\n",
      "Epoch 27/100\n",
      "64000/64000 [==============================] - 56s 878us/sample - loss: 0.6390 - acc: 0.6344 - val_loss: 0.6239 - val_acc: 0.6578\n",
      "Epoch 28/100\n",
      "64000/64000 [==============================] - 56s 873us/sample - loss: 0.6376 - acc: 0.6378 - val_loss: 0.6202 - val_acc: 0.6610\n",
      "Epoch 29/100\n",
      "64000/64000 [==============================] - 56s 871us/sample - loss: 0.6365 - acc: 0.6396 - val_loss: 0.6189 - val_acc: 0.6615\n",
      "Epoch 30/100\n",
      "64000/64000 [==============================] - 56s 871us/sample - loss: 0.6348 - acc: 0.6412 - val_loss: 0.6193 - val_acc: 0.6593\n",
      "Epoch 31/100\n",
      "64000/64000 [==============================] - 55s 866us/sample - loss: 0.6358 - acc: 0.6423 - val_loss: 0.6138 - val_acc: 0.6698\n",
      "Epoch 32/100\n",
      "64000/64000 [==============================] - 56s 869us/sample - loss: 0.6338 - acc: 0.6440 - val_loss: 0.6189 - val_acc: 0.6618\n",
      "Epoch 33/100\n",
      "64000/64000 [==============================] - 55s 866us/sample - loss: 0.6345 - acc: 0.6428 - val_loss: 0.6162 - val_acc: 0.6679\n",
      "Epoch 34/100\n",
      "64000/64000 [==============================] - 56s 870us/sample - loss: 0.6338 - acc: 0.6433 - val_loss: 0.6134 - val_acc: 0.6711\n",
      "Epoch 35/100\n",
      "64000/64000 [==============================] - 55s 866us/sample - loss: 0.6319 - acc: 0.6457 - val_loss: 0.6130 - val_acc: 0.6729\n",
      "Epoch 36/100\n",
      "64000/64000 [==============================] - 55s 864us/sample - loss: 0.6301 - acc: 0.6479 - val_loss: 0.6091 - val_acc: 0.6752\n",
      "Epoch 37/100\n",
      "64000/64000 [==============================] - 55s 860us/sample - loss: 0.6307 - acc: 0.6461 - val_loss: 0.6134 - val_acc: 0.6694\n",
      "Epoch 38/100\n",
      "64000/64000 [==============================] - 55s 863us/sample - loss: 0.6307 - acc: 0.6460 - val_loss: 0.6067 - val_acc: 0.6788\n",
      "Epoch 39/100\n",
      "64000/64000 [==============================] - 56s 868us/sample - loss: 0.6286 - acc: 0.6493 - val_loss: 0.6138 - val_acc: 0.6693\n",
      "Epoch 40/100\n",
      "64000/64000 [==============================] - 55s 863us/sample - loss: 0.6283 - acc: 0.6495 - val_loss: 0.6074 - val_acc: 0.6799\n",
      "Epoch 41/100\n",
      "64000/64000 [==============================] - 55s 865us/sample - loss: 0.6285 - acc: 0.6494 - val_loss: 0.6094 - val_acc: 0.6770\n",
      "Epoch 42/100\n",
      "64000/64000 [==============================] - 55s 867us/sample - loss: 0.6273 - acc: 0.6520 - val_loss: 0.6093 - val_acc: 0.6773\n",
      "Epoch 43/100\n",
      "64000/64000 [==============================] - 56s 869us/sample - loss: 0.6282 - acc: 0.6485 - val_loss: 0.6046 - val_acc: 0.6815\n",
      "Epoch 44/100\n",
      "64000/64000 [==============================] - 55s 863us/sample - loss: 0.6279 - acc: 0.6498 - val_loss: 0.6066 - val_acc: 0.6769\n",
      "Epoch 45/100\n",
      "64000/64000 [==============================] - 56s 872us/sample - loss: 0.6269 - acc: 0.6502 - val_loss: 0.6089 - val_acc: 0.6757\n",
      "Epoch 46/100\n",
      "64000/64000 [==============================] - 56s 881us/sample - loss: 0.6261 - acc: 0.6531 - val_loss: 0.6083 - val_acc: 0.6740\n",
      "Epoch 47/100\n",
      "64000/64000 [==============================] - 57s 887us/sample - loss: 0.6245 - acc: 0.6552 - val_loss: 0.6039 - val_acc: 0.6783\n",
      "Epoch 48/100\n",
      "64000/64000 [==============================] - 56s 870us/sample - loss: 0.6259 - acc: 0.6530 - val_loss: 0.6157 - val_acc: 0.6606\n",
      "Epoch 49/100\n",
      "64000/64000 [==============================] - 56s 872us/sample - loss: 0.6246 - acc: 0.6542 - val_loss: 0.6093 - val_acc: 0.6717\n",
      "Epoch 50/100\n",
      "64000/64000 [==============================] - 55s 866us/sample - loss: 0.6234 - acc: 0.6536 - val_loss: 0.6057 - val_acc: 0.6777\n",
      "Epoch 51/100\n",
      "64000/64000 [==============================] - 56s 870us/sample - loss: 0.6242 - acc: 0.6529 - val_loss: 0.6037 - val_acc: 0.6799\n",
      "Epoch 52/100\n",
      "64000/64000 [==============================] - 57s 898us/sample - loss: 0.6248 - acc: 0.6525 - val_loss: 0.5997 - val_acc: 0.6850\n",
      "Epoch 53/100\n",
      "64000/64000 [==============================] - 63s 981us/sample - loss: 0.6243 - acc: 0.6524 - val_loss: 0.6094 - val_acc: 0.6704\n",
      "Epoch 54/100\n",
      "64000/64000 [==============================] - 61s 961us/sample - loss: 0.6223 - acc: 0.6552 - val_loss: 0.5985 - val_acc: 0.6851\n",
      "Epoch 55/100\n",
      "64000/64000 [==============================] - 57s 895us/sample - loss: 0.6217 - acc: 0.6570 - val_loss: 0.5985 - val_acc: 0.6873\n",
      "Epoch 56/100\n",
      "64000/64000 [==============================] - 57s 898us/sample - loss: 0.6236 - acc: 0.6566 - val_loss: 0.5984 - val_acc: 0.6858\n",
      "Epoch 57/100\n",
      "64000/64000 [==============================] - 56s 878us/sample - loss: 0.6215 - acc: 0.6565 - val_loss: 0.6072 - val_acc: 0.6732\n",
      "Epoch 58/100\n",
      "64000/64000 [==============================] - 56s 878us/sample - loss: 0.6232 - acc: 0.6551 - val_loss: 0.6031 - val_acc: 0.6818\n",
      "Epoch 59/100\n",
      "64000/64000 [==============================] - 56s 875us/sample - loss: 0.6214 - acc: 0.6579 - val_loss: 0.5997 - val_acc: 0.6849\n",
      "Epoch 60/100\n",
      "64000/64000 [==============================] - 56s 878us/sample - loss: 0.6208 - acc: 0.6561 - val_loss: 0.6002 - val_acc: 0.6822\n",
      "Epoch 61/100\n",
      "64000/64000 [==============================] - 57s 888us/sample - loss: 0.6214 - acc: 0.6554 - val_loss: 0.5997 - val_acc: 0.6836\n",
      "Epoch 62/100\n",
      "64000/64000 [==============================] - 56s 878us/sample - loss: 0.6199 - acc: 0.6566 - val_loss: 0.5992 - val_acc: 0.6830\n",
      "Epoch 63/100\n",
      "64000/64000 [==============================] - 56s 875us/sample - loss: 0.6195 - acc: 0.6577 - val_loss: 0.5999 - val_acc: 0.6794\n",
      "Epoch 64/100\n",
      "64000/64000 [==============================] - 56s 874us/sample - loss: 0.6216 - acc: 0.6584 - val_loss: 0.6016 - val_acc: 0.6808\n",
      "Epoch 65/100\n",
      "64000/64000 [==============================] - 56s 878us/sample - loss: 0.6204 - acc: 0.6566 - val_loss: 0.6003 - val_acc: 0.6804\n",
      "Epoch 66/100\n",
      "64000/64000 [==============================] - 57s 883us/sample - loss: 0.6192 - acc: 0.6575 - val_loss: 0.5989 - val_acc: 0.6824\n",
      "Epoch 67/100\n",
      "64000/64000 [==============================] - 57s 885us/sample - loss: 0.6189 - acc: 0.6593 - val_loss: 0.6023 - val_acc: 0.6791\n",
      "Epoch 68/100\n",
      "64000/64000 [==============================] - 57s 893us/sample - loss: 0.6161 - acc: 0.6620 - val_loss: 0.5980 - val_acc: 0.6851\n",
      "Epoch 69/100\n",
      "64000/64000 [==============================] - 57s 889us/sample - loss: 0.6174 - acc: 0.6631 - val_loss: 0.5990 - val_acc: 0.6828\n",
      "Epoch 70/100\n",
      "64000/64000 [==============================] - 57s 885us/sample - loss: 0.6158 - acc: 0.6636 - val_loss: 0.6080 - val_acc: 0.6685\n",
      "Epoch 71/100\n",
      "64000/64000 [==============================] - 57s 884us/sample - loss: 0.6152 - acc: 0.6642 - val_loss: 0.6080 - val_acc: 0.6656\n",
      "Epoch 72/100\n",
      "64000/64000 [==============================] - 56s 878us/sample - loss: 0.6158 - acc: 0.6637 - val_loss: 0.5918 - val_acc: 0.6927\n",
      "Epoch 73/100\n",
      "64000/64000 [==============================] - 56s 882us/sample - loss: 0.6147 - acc: 0.6632 - val_loss: 0.6008 - val_acc: 0.6775\n",
      "Epoch 74/100\n",
      "64000/64000 [==============================] - 56s 881us/sample - loss: 0.6156 - acc: 0.6652 - val_loss: 0.5963 - val_acc: 0.6833\n",
      "Epoch 75/100\n",
      "64000/64000 [==============================] - 57s 885us/sample - loss: 0.6138 - acc: 0.6645 - val_loss: 0.6041 - val_acc: 0.6711\n",
      "Epoch 76/100\n",
      "64000/64000 [==============================] - 56s 880us/sample - loss: 0.6159 - acc: 0.6640 - val_loss: 0.5931 - val_acc: 0.6872\n",
      "Epoch 77/100\n",
      "64000/64000 [==============================] - 57s 886us/sample - loss: 0.6148 - acc: 0.6644 - val_loss: 0.6025 - val_acc: 0.6727\n",
      "Epoch 78/100\n",
      "64000/64000 [==============================] - 57s 888us/sample - loss: 0.6147 - acc: 0.6632 - val_loss: 0.6003 - val_acc: 0.6768\n",
      "Epoch 79/100\n",
      "64000/64000 [==============================] - 56s 880us/sample - loss: 0.6142 - acc: 0.6627 - val_loss: 0.5896 - val_acc: 0.6927\n",
      "Epoch 80/100\n",
      "64000/64000 [==============================] - 56s 878us/sample - loss: 0.6144 - acc: 0.6631 - val_loss: 0.5915 - val_acc: 0.6887\n",
      "Epoch 81/100\n",
      "64000/64000 [==============================] - 56s 875us/sample - loss: 0.6140 - acc: 0.6636 - val_loss: 0.5991 - val_acc: 0.6762\n",
      "Epoch 82/100\n",
      "64000/64000 [==============================] - 56s 881us/sample - loss: 0.6141 - acc: 0.6632 - val_loss: 0.5904 - val_acc: 0.6878\n",
      "Epoch 83/100\n",
      "64000/64000 [==============================] - 56s 879us/sample - loss: 0.6130 - acc: 0.6643 - val_loss: 0.5931 - val_acc: 0.6853\n",
      "Epoch 84/100\n",
      "64000/64000 [==============================] - 56s 882us/sample - loss: 0.6106 - acc: 0.6678 - val_loss: 0.5905 - val_acc: 0.6891\n",
      "Epoch 85/100\n",
      "64000/64000 [==============================] - 56s 881us/sample - loss: 0.6118 - acc: 0.6670 - val_loss: 0.5937 - val_acc: 0.6851\n",
      "Epoch 86/100\n",
      "64000/64000 [==============================] - 56s 882us/sample - loss: 0.6123 - acc: 0.6650 - val_loss: 0.5853 - val_acc: 0.6962\n",
      "Epoch 87/100\n",
      "64000/64000 [==============================] - 56s 879us/sample - loss: 0.6114 - acc: 0.6676 - val_loss: 0.5859 - val_acc: 0.6945\n",
      "Epoch 88/100\n",
      "64000/64000 [==============================] - 56s 879us/sample - loss: 0.6119 - acc: 0.6661 - val_loss: 0.5926 - val_acc: 0.6834\n",
      "Epoch 89/100\n",
      "64000/64000 [==============================] - 56s 882us/sample - loss: 0.6096 - acc: 0.6674 - val_loss: 0.5873 - val_acc: 0.6931\n",
      "Epoch 90/100\n",
      "64000/64000 [==============================] - 56s 875us/sample - loss: 0.6112 - acc: 0.6671 - val_loss: 0.6070 - val_acc: 0.6621\n",
      "Epoch 91/100\n",
      "64000/64000 [==============================] - 56s 880us/sample - loss: 0.6107 - acc: 0.6678 - val_loss: 0.5883 - val_acc: 0.6890\n",
      "Epoch 92/100\n",
      "64000/64000 [==============================] - 56s 880us/sample - loss: 0.6098 - acc: 0.6676 - val_loss: 0.5829 - val_acc: 0.6988\n",
      "Epoch 93/100\n",
      "64000/64000 [==============================] - 57s 890us/sample - loss: 0.6109 - acc: 0.6674 - val_loss: 0.5895 - val_acc: 0.6878\n",
      "Epoch 94/100\n",
      "64000/64000 [==============================] - 56s 876us/sample - loss: 0.6090 - acc: 0.6700 - val_loss: 0.5949 - val_acc: 0.6781\n",
      "Epoch 95/100\n",
      "64000/64000 [==============================] - 56s 878us/sample - loss: 0.6085 - acc: 0.6700 - val_loss: 0.5952 - val_acc: 0.6796\n",
      "Epoch 96/100\n",
      "64000/64000 [==============================] - 56s 875us/sample - loss: 0.6091 - acc: 0.6688 - val_loss: 0.5861 - val_acc: 0.6914\n",
      "Epoch 97/100\n",
      "64000/64000 [==============================] - 57s 883us/sample - loss: 0.6091 - acc: 0.6685 - val_loss: 0.5988 - val_acc: 0.6750\n",
      "Epoch 98/100\n",
      "64000/64000 [==============================] - 57s 887us/sample - loss: 0.6068 - acc: 0.6728 - val_loss: 0.5798 - val_acc: 0.6998\n",
      "Epoch 99/100\n",
      "64000/64000 [==============================] - 56s 879us/sample - loss: 0.6079 - acc: 0.6705 - val_loss: 0.5861 - val_acc: 0.6931\n",
      "Epoch 100/100\n",
      "64000/64000 [==============================] - 57s 884us/sample - loss: 0.6086 - acc: 0.6682 - val_loss: 0.5940 - val_acc: 0.6806\n"
     ]
    }
   ],
   "source": [
    "# compile the model\n",
    "print(\"[INFO] compiling model...\")\n",
    "model.compile(loss=\"binary_crossentropy\", optimizer=\"adam\", metrics=[\"accuracy\"])\n",
    "# train the model\n",
    "print(\"[INFO] training model...\")\n",
    "history = model.fit([pairTrain[:, 0], pairTrain[:, 1]], labelTrain[:], validation_data=([pairTest[:, 0], pairTest[:, 1]], labelTest[:]), batch_size=64, epochs=100)"
   ]
  },
  {
   "cell_type": "code",
   "execution_count": 307,
   "metadata": {},
   "outputs": [],
   "source": [
    "import os\n",
    "model.save(\"model.h5\")"
   ]
  },
  {
   "cell_type": "code",
   "execution_count": null,
   "metadata": {},
   "outputs": [],
   "source": []
  },
  {
   "cell_type": "code",
   "execution_count": null,
   "metadata": {},
   "outputs": [],
   "source": []
  }
 ]
}