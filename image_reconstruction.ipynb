{
 "metadata": {
  "language_info": {
   "codemirror_mode": {
    "name": "ipython",
    "version": 3
   },
   "file_extension": ".py",
   "mimetype": "text/x-python",
   "name": "python",
   "nbconvert_exporter": "python",
   "pygments_lexer": "ipython3",
   "version": "3.7.4"
  },
  "orig_nbformat": 2,
  "kernelspec": {
   "name": "python374jvsc74a57bd05ca7d9beb22e952c31a8e2fe7d811130044162231f22e247eaed9cab05f8fa54",
   "display_name": "Python 3.7.4 64-bit ('base': conda)"
  },
  "metadata": {
   "interpreter": {
    "hash": "2db524e06e9f5f4ffedc911c917cb75e12dbc923643829bf417064a77eb14d37"
   }
  }
 },
 "nbformat": 4,
 "nbformat_minor": 2,
 "cells": [
  {
   "source": [
    "## Problem Statment:\n",
    "\n",
    "Imagine the digits in the test set of the MNIST dataset\n",
    "(http://yann.lecun.com/exdb/mnist/) got cut in half vertically and shuffled around. Although the\n",
    "two resulting halves of each image do not have any shared pixels, there are\n",
    "similarities in their structure. Implement a way to restore the original test\n",
    "set from the two halves, whilst maximising the overall matching accuracy.\n",
    "\n"
   ],
   "cell_type": "markdown",
   "metadata": {}
  },
  {
   "source": [
    "## Purposed Solution:\n",
    "Take pixel values at the edge of both images and attempt different ways of relating them to each other. My metric will be based off of subtracting one array of left sided pixel edge values from the other side for all right hand images. I then sum the absolute difference of the values and the min of the list of values will be considered the \"correct\" prediction\n",
    "\n",
    "### Methods I am going to attempt:\n",
    "\n",
    "- comparing last pixel values \n",
    "- averaging the last 2 pixels on each end and comparing \n",
    "- data generation through pixel repition and use moving windows to generate a \"gradient\"\n",
    "\n"
   ],
   "cell_type": "markdown",
   "metadata": {}
  },
  {
   "cell_type": "code",
   "execution_count": 150,
   "metadata": {},
   "outputs": [],
   "source": [
    "from keras.datasets import mnist\n",
    "from matplotlib import pyplot\n",
    " "
   ]
  },
  {
   "cell_type": "code",
   "execution_count": 151,
   "metadata": {},
   "outputs": [],
   "source": [
    "# loading\n",
    "(train_X, train_y), (test_X, test_y) = mnist.load_data()"
   ]
  },
  {
   "cell_type": "code",
   "execution_count": 152,
   "metadata": {},
   "outputs": [],
   "source": [
    "# Working with a subset that can be expanded\n",
    "train_X = train_X[0:1000]"
   ]
  },
  {
   "cell_type": "code",
   "execution_count": 153,
   "metadata": {},
   "outputs": [],
   "source": [
    "# Cutting Images in half for edge detection algo\n",
    "height, width = train_X[0].shape\n",
    "half = width//2"
   ]
  },
  {
   "cell_type": "code",
   "execution_count": 154,
   "metadata": {},
   "outputs": [],
   "source": [
    "# I want to do half-1 or half+1, but I think its been resulting in longer computation times, so I'm not going to generalize \n",
    "from itertools import chain\n",
    "\n",
    "# Eliminates list within list data formatting \n",
    "left_slice_train_X = [list(chain.from_iterable(train_X[i][:, 13:half])) for i in range(len(train_X))]\n",
    "right_slice_train_X = [list(chain.from_iterable(train_X[i][:, half: 15])) for i in range(len(train_X))]\n",
    "\n",
    "# 2 Pixel version thats been left in list format \n",
    "left_slice_two_px = [train_X[i][:, 12:half] for i in range(len(train_X))]\n",
    "right_slice_two_px = [train_X[i][:, half:16] for i in range(len(train_X))]"
   ]
  },
  {
   "cell_type": "code",
   "execution_count": 155,
   "metadata": {},
   "outputs": [
    {
     "output_type": "display_data",
     "data": {
      "text/plain": "<Figure size 432x288 with 1 Axes>",
      "image/svg+xml": "<?xml version=\"1.0\" encoding=\"utf-8\" standalone=\"no\"?>\r\n<!DOCTYPE svg PUBLIC \"-//W3C//DTD SVG 1.1//EN\"\r\n  \"http://www.w3.org/Graphics/SVG/1.1/DTD/svg11.dtd\">\r\n<!-- Created with matplotlib (https://matplotlib.org/) -->\r\n<svg height=\"248.518125pt\" version=\"1.1\" viewBox=\"0 0 49.656429 248.518125\" width=\"49.656429pt\" xmlns=\"http://www.w3.org/2000/svg\" xmlns:xlink=\"http://www.w3.org/1999/xlink\">\r\n <defs>\r\n  <style type=\"text/css\">\r\n*{stroke-linecap:butt;stroke-linejoin:round;}\r\n  </style>\r\n </defs>\r\n <g id=\"figure_1\">\r\n  <g id=\"patch_1\">\r\n   <path d=\"M 0 248.518125 \r\nL 49.656429 248.518125 \r\nL 49.656429 0 \r\nL 0 0 \r\nz\r\n\" style=\"fill:none;\"/>\r\n  </g>\r\n  <g id=\"axes_1\">\r\n   <g id=\"patch_2\">\r\n    <path d=\"M 26.925 224.64 \r\nL 42.456429 224.64 \r\nL 42.456429 7.2 \r\nL 26.925 7.2 \r\nz\r\n\" style=\"fill:#ffffff;\"/>\r\n   </g>\r\n   <g clip-path=\"url(#p9ab50d79ad)\">\r\n    <image height=\"218\" id=\"imageb033d8d2f0\" transform=\"scale(1 -1)translate(0 -218)\" width=\"16\" x=\"26.925\" xlink:href=\"data:image/png;base64,\r\niVBORw0KGgoAAAANSUhEUgAAABAAAADaCAYAAACvgMKzAAAABHNCSVQICAgIfAhkiAAAARxJREFUaIHt2TGPAUEYxvFbNzpRnUSlUrgClYhcdOcLoNBSS3wAjUKnVui161voRXXJduKyClGIcoVK+27Byxv5T/3sL88mM7ObGe/Xa18+7hiJex4GAAAAAAAAUABcMK2KgcLwT7cBgAXAO4d58Tev/y/Pk9e/AsAz5oF6AwALgPNPaTHQSh11GwA8Yjk3KiNxOQeDpG4DAAuAxykOAAAAAADAuwEuLnDo1XQbAFgAXKL8LQb80US3AYAFwGVnWzGQcyndBgAWgNjTvO6mrtsA4Bmf99W8qNsAwAIQu5zH+4JuAwALAJc0AAAAt+F+1k0xsCwtdBsAPOSyLtkRt/XPzJduAwALgLtEkRiIwp1uAwAAAAAAAAAAAAXgCtkrM6eX+jRWAAAAAElFTkSuQmCC\" y=\"-6.64\"/>\r\n   </g>\r\n   <g id=\"matplotlib.axis_1\">\r\n    <g id=\"xtick_1\">\r\n     <g id=\"line2d_1\">\r\n      <defs>\r\n       <path d=\"M 0 0 \r\nL 0 3.5 \r\n\" id=\"md95e13e4f6\" style=\"stroke:#000000;stroke-width:0.8;\"/>\r\n      </defs>\r\n      <g>\r\n       <use style=\"stroke:#000000;stroke-width:0.8;\" x=\"30.807857\" xlink:href=\"#md95e13e4f6\" y=\"224.64\"/>\r\n      </g>\r\n     </g>\r\n     <g id=\"text_1\">\r\n      <!-- 0 -->\r\n      <defs>\r\n       <path d=\"M 31.78125 66.40625 \r\nQ 24.171875 66.40625 20.328125 58.90625 \r\nQ 16.5 51.421875 16.5 36.375 \r\nQ 16.5 21.390625 20.328125 13.890625 \r\nQ 24.171875 6.390625 31.78125 6.390625 \r\nQ 39.453125 6.390625 43.28125 13.890625 \r\nQ 47.125 21.390625 47.125 36.375 \r\nQ 47.125 51.421875 43.28125 58.90625 \r\nQ 39.453125 66.40625 31.78125 66.40625 \r\nz\r\nM 31.78125 74.21875 \r\nQ 44.046875 74.21875 50.515625 64.515625 \r\nQ 56.984375 54.828125 56.984375 36.375 \r\nQ 56.984375 17.96875 50.515625 8.265625 \r\nQ 44.046875 -1.421875 31.78125 -1.421875 \r\nQ 19.53125 -1.421875 13.0625 8.265625 \r\nQ 6.59375 17.96875 6.59375 36.375 \r\nQ 6.59375 54.828125 13.0625 64.515625 \r\nQ 19.53125 74.21875 31.78125 74.21875 \r\nz\r\n\" id=\"DejaVuSans-48\"/>\r\n      </defs>\r\n      <g transform=\"translate(27.626607 239.238437)scale(0.1 -0.1)\">\r\n       <use xlink:href=\"#DejaVuSans-48\"/>\r\n      </g>\r\n     </g>\r\n    </g>\r\n    <g id=\"xtick_2\">\r\n     <g id=\"line2d_2\">\r\n      <g>\r\n       <use style=\"stroke:#000000;stroke-width:0.8;\" x=\"38.573571\" xlink:href=\"#md95e13e4f6\" y=\"224.64\"/>\r\n      </g>\r\n     </g>\r\n     <g id=\"text_2\">\r\n      <!-- 1 -->\r\n      <defs>\r\n       <path d=\"M 12.40625 8.296875 \r\nL 28.515625 8.296875 \r\nL 28.515625 63.921875 \r\nL 10.984375 60.40625 \r\nL 10.984375 69.390625 \r\nL 28.421875 72.90625 \r\nL 38.28125 72.90625 \r\nL 38.28125 8.296875 \r\nL 54.390625 8.296875 \r\nL 54.390625 0 \r\nL 12.40625 0 \r\nz\r\n\" id=\"DejaVuSans-49\"/>\r\n      </defs>\r\n      <g transform=\"translate(35.392321 239.238437)scale(0.1 -0.1)\">\r\n       <use xlink:href=\"#DejaVuSans-49\"/>\r\n      </g>\r\n     </g>\r\n    </g>\r\n   </g>\r\n   <g id=\"matplotlib.axis_2\">\r\n    <g id=\"ytick_1\">\r\n     <g id=\"line2d_3\">\r\n      <defs>\r\n       <path d=\"M 0 0 \r\nL -3.5 0 \r\n\" id=\"m759b41667e\" style=\"stroke:#000000;stroke-width:0.8;\"/>\r\n      </defs>\r\n      <g>\r\n       <use style=\"stroke:#000000;stroke-width:0.8;\" x=\"26.925\" xlink:href=\"#m759b41667e\" y=\"11.082857\"/>\r\n      </g>\r\n     </g>\r\n     <g id=\"text_3\">\r\n      <!-- 0 -->\r\n      <g transform=\"translate(13.5625 14.882076)scale(0.1 -0.1)\">\r\n       <use xlink:href=\"#DejaVuSans-48\"/>\r\n      </g>\r\n     </g>\r\n    </g>\r\n    <g id=\"ytick_2\">\r\n     <g id=\"line2d_4\">\r\n      <g>\r\n       <use style=\"stroke:#000000;stroke-width:0.8;\" x=\"26.925\" xlink:href=\"#m759b41667e\" y=\"49.911429\"/>\r\n      </g>\r\n     </g>\r\n     <g id=\"text_4\">\r\n      <!-- 5 -->\r\n      <defs>\r\n       <path d=\"M 10.796875 72.90625 \r\nL 49.515625 72.90625 \r\nL 49.515625 64.59375 \r\nL 19.828125 64.59375 \r\nL 19.828125 46.734375 \r\nQ 21.96875 47.46875 24.109375 47.828125 \r\nQ 26.265625 48.1875 28.421875 48.1875 \r\nQ 40.625 48.1875 47.75 41.5 \r\nQ 54.890625 34.8125 54.890625 23.390625 \r\nQ 54.890625 11.625 47.5625 5.09375 \r\nQ 40.234375 -1.421875 26.90625 -1.421875 \r\nQ 22.3125 -1.421875 17.546875 -0.640625 \r\nQ 12.796875 0.140625 7.71875 1.703125 \r\nL 7.71875 11.625 \r\nQ 12.109375 9.234375 16.796875 8.0625 \r\nQ 21.484375 6.890625 26.703125 6.890625 \r\nQ 35.15625 6.890625 40.078125 11.328125 \r\nQ 45.015625 15.765625 45.015625 23.390625 \r\nQ 45.015625 31 40.078125 35.4375 \r\nQ 35.15625 39.890625 26.703125 39.890625 \r\nQ 22.75 39.890625 18.8125 39.015625 \r\nQ 14.890625 38.140625 10.796875 36.28125 \r\nz\r\n\" id=\"DejaVuSans-53\"/>\r\n      </defs>\r\n      <g transform=\"translate(13.5625 53.710647)scale(0.1 -0.1)\">\r\n       <use xlink:href=\"#DejaVuSans-53\"/>\r\n      </g>\r\n     </g>\r\n    </g>\r\n    <g id=\"ytick_3\">\r\n     <g id=\"line2d_5\">\r\n      <g>\r\n       <use style=\"stroke:#000000;stroke-width:0.8;\" x=\"26.925\" xlink:href=\"#m759b41667e\" y=\"88.74\"/>\r\n      </g>\r\n     </g>\r\n     <g id=\"text_5\">\r\n      <!-- 10 -->\r\n      <g transform=\"translate(7.2 92.539219)scale(0.1 -0.1)\">\r\n       <use xlink:href=\"#DejaVuSans-49\"/>\r\n       <use x=\"63.623047\" xlink:href=\"#DejaVuSans-48\"/>\r\n      </g>\r\n     </g>\r\n    </g>\r\n    <g id=\"ytick_4\">\r\n     <g id=\"line2d_6\">\r\n      <g>\r\n       <use style=\"stroke:#000000;stroke-width:0.8;\" x=\"26.925\" xlink:href=\"#m759b41667e\" y=\"127.568571\"/>\r\n      </g>\r\n     </g>\r\n     <g id=\"text_6\">\r\n      <!-- 15 -->\r\n      <g transform=\"translate(7.2 131.36779)scale(0.1 -0.1)\">\r\n       <use xlink:href=\"#DejaVuSans-49\"/>\r\n       <use x=\"63.623047\" xlink:href=\"#DejaVuSans-53\"/>\r\n      </g>\r\n     </g>\r\n    </g>\r\n    <g id=\"ytick_5\">\r\n     <g id=\"line2d_7\">\r\n      <g>\r\n       <use style=\"stroke:#000000;stroke-width:0.8;\" x=\"26.925\" xlink:href=\"#m759b41667e\" y=\"166.397143\"/>\r\n      </g>\r\n     </g>\r\n     <g id=\"text_7\">\r\n      <!-- 20 -->\r\n      <defs>\r\n       <path d=\"M 19.1875 8.296875 \r\nL 53.609375 8.296875 \r\nL 53.609375 0 \r\nL 7.328125 0 \r\nL 7.328125 8.296875 \r\nQ 12.9375 14.109375 22.625 23.890625 \r\nQ 32.328125 33.6875 34.8125 36.53125 \r\nQ 39.546875 41.84375 41.421875 45.53125 \r\nQ 43.3125 49.21875 43.3125 52.78125 \r\nQ 43.3125 58.59375 39.234375 62.25 \r\nQ 35.15625 65.921875 28.609375 65.921875 \r\nQ 23.96875 65.921875 18.8125 64.3125 \r\nQ 13.671875 62.703125 7.8125 59.421875 \r\nL 7.8125 69.390625 \r\nQ 13.765625 71.78125 18.9375 73 \r\nQ 24.125 74.21875 28.421875 74.21875 \r\nQ 39.75 74.21875 46.484375 68.546875 \r\nQ 53.21875 62.890625 53.21875 53.421875 \r\nQ 53.21875 48.921875 51.53125 44.890625 \r\nQ 49.859375 40.875 45.40625 35.40625 \r\nQ 44.1875 33.984375 37.640625 27.21875 \r\nQ 31.109375 20.453125 19.1875 8.296875 \r\nz\r\n\" id=\"DejaVuSans-50\"/>\r\n      </defs>\r\n      <g transform=\"translate(7.2 170.196362)scale(0.1 -0.1)\">\r\n       <use xlink:href=\"#DejaVuSans-50\"/>\r\n       <use x=\"63.623047\" xlink:href=\"#DejaVuSans-48\"/>\r\n      </g>\r\n     </g>\r\n    </g>\r\n    <g id=\"ytick_6\">\r\n     <g id=\"line2d_8\">\r\n      <g>\r\n       <use style=\"stroke:#000000;stroke-width:0.8;\" x=\"26.925\" xlink:href=\"#m759b41667e\" y=\"205.225714\"/>\r\n      </g>\r\n     </g>\r\n     <g id=\"text_8\">\r\n      <!-- 25 -->\r\n      <g transform=\"translate(7.2 209.024933)scale(0.1 -0.1)\">\r\n       <use xlink:href=\"#DejaVuSans-50\"/>\r\n       <use x=\"63.623047\" xlink:href=\"#DejaVuSans-53\"/>\r\n      </g>\r\n     </g>\r\n    </g>\r\n   </g>\r\n   <g id=\"patch_3\">\r\n    <path d=\"M 26.925 224.64 \r\nL 26.925 7.2 \r\n\" style=\"fill:none;stroke:#000000;stroke-linecap:square;stroke-linejoin:miter;stroke-width:0.8;\"/>\r\n   </g>\r\n   <g id=\"patch_4\">\r\n    <path d=\"M 42.456429 224.64 \r\nL 42.456429 7.2 \r\n\" style=\"fill:none;stroke:#000000;stroke-linecap:square;stroke-linejoin:miter;stroke-width:0.8;\"/>\r\n   </g>\r\n   <g id=\"patch_5\">\r\n    <path d=\"M 26.925 224.64 \r\nL 42.456429 224.64 \r\n\" style=\"fill:none;stroke:#000000;stroke-linecap:square;stroke-linejoin:miter;stroke-width:0.8;\"/>\r\n   </g>\r\n   <g id=\"patch_6\">\r\n    <path d=\"M 26.925 7.2 \r\nL 42.456429 7.2 \r\n\" style=\"fill:none;stroke:#000000;stroke-linecap:square;stroke-linejoin:miter;stroke-width:0.8;\"/>\r\n   </g>\r\n  </g>\r\n </g>\r\n <defs>\r\n  <clipPath id=\"p9ab50d79ad\">\r\n   <rect height=\"217.44\" width=\"15.531429\" x=\"26.925\" y=\"7.2\"/>\r\n  </clipPath>\r\n </defs>\r\n</svg>\r\n",
      "image/png": "[encoded data removed]"
     },
     "metadata": {
      "needs_background": "light"
     }
    },
    {
     "output_type": "display_data",
     "data": {
      "text/plain": "<Figure size 432x288 with 1 Axes>",
      "image/svg+xml": "<?xml version=\"1.0\" encoding=\"utf-8\" standalone=\"no\"?>\r\n<!DOCTYPE svg PUBLIC \"-//W3C//DTD SVG 1.1//EN\"\r\n  \"http://www.w3.org/Graphics/SVG/1.1/DTD/svg11.dtd\">\r\n<!-- Created with matplotlib (https://matplotlib.org/) -->\r\n<svg height=\"248.518125pt\" version=\"1.1\" viewBox=\"0 0 49.656429 248.518125\" width=\"49.656429pt\" xmlns=\"http://www.w3.org/2000/svg\" xmlns:xlink=\"http://www.w3.org/1999/xlink\">\r\n <defs>\r\n  <style type=\"text/css\">\r\n*{stroke-linecap:butt;stroke-linejoin:round;}\r\n  </style>\r\n </defs>\r\n <g id=\"figure_1\">\r\n  <g id=\"patch_1\">\r\n   <path d=\"M 0 248.518125 \r\nL 49.656429 248.518125 \r\nL 49.656429 0 \r\nL 0 0 \r\nz\r\n\" style=\"fill:none;\"/>\r\n  </g>\r\n  <g id=\"axes_1\">\r\n   <g id=\"patch_2\">\r\n    <path d=\"M 26.925 224.64 \r\nL 42.456429 224.64 \r\nL 42.456429 7.2 \r\nL 26.925 7.2 \r\nz\r\n\" style=\"fill:#ffffff;\"/>\r\n   </g>\r\n   <g clip-path=\"url(#p0aa9692846)\">\r\n    <image height=\"218\" id=\"image381c083872\" transform=\"scale(1 -1)translate(0 -218)\" width=\"16\" x=\"26.925\" xlink:href=\"data:image/png;base64,\r\niVBORw0KGgoAAAANSUhEUgAAABAAAADaCAYAAACvgMKzAAAABHNCSVQICAgIfAhkiAAAAQBJREFUaIHt2jEKwjAYhmFj46BbJycXQRwcHcRVHQRXZxFv4BlcPIAHKN5BHATxAp5ACk66OatU9AZ/huanEd7MX59+IaG0pGZkpt9SjlHOczEAAAAAAAAAAIASYC9JVwy05mfdBgAhAOZ9a4qv+8t7T7cBQAiA2aUdcR+May/dBgA+ltH19X5d9XUbAIQAOPeBegMAAAAAAAAAAAAAAAAAAAB52CiOxcBj0tZtABACYOv7TAykB6PbACAEwHlIExn5HsVPAQAAwBNgT8+KGBhWP7oNAHws43oxEwON7Ua3AUAIgPOwLhvI/+oUPwUAH88DZ+DIP1kAAAAAAAD/BfwAtS4l3b3yOU8AAAAASUVORK5CYII=\" y=\"-6.64\"/>\r\n   </g>\r\n   <g id=\"matplotlib.axis_1\">\r\n    <g id=\"xtick_1\">\r\n     <g id=\"line2d_1\">\r\n      <defs>\r\n       <path d=\"M 0 0 \r\nL 0 3.5 \r\n\" id=\"m1aaeb746a4\" style=\"stroke:#000000;stroke-width:0.8;\"/>\r\n      </defs>\r\n      <g>\r\n       <use style=\"stroke:#000000;stroke-width:0.8;\" x=\"30.807857\" xlink:href=\"#m1aaeb746a4\" y=\"224.64\"/>\r\n      </g>\r\n     </g>\r\n     <g id=\"text_1\">\r\n      <!-- 0 -->\r\n      <defs>\r\n       <path d=\"M 31.78125 66.40625 \r\nQ 24.171875 66.40625 20.328125 58.90625 \r\nQ 16.5 51.421875 16.5 36.375 \r\nQ 16.5 21.390625 20.328125 13.890625 \r\nQ 24.171875 6.390625 31.78125 6.390625 \r\nQ 39.453125 6.390625 43.28125 13.890625 \r\nQ 47.125 21.390625 47.125 36.375 \r\nQ 47.125 51.421875 43.28125 58.90625 \r\nQ 39.453125 66.40625 31.78125 66.40625 \r\nz\r\nM 31.78125 74.21875 \r\nQ 44.046875 74.21875 50.515625 64.515625 \r\nQ 56.984375 54.828125 56.984375 36.375 \r\nQ 56.984375 17.96875 50.515625 8.265625 \r\nQ 44.046875 -1.421875 31.78125 -1.421875 \r\nQ 19.53125 -1.421875 13.0625 8.265625 \r\nQ 6.59375 17.96875 6.59375 36.375 \r\nQ 6.59375 54.828125 13.0625 64.515625 \r\nQ 19.53125 74.21875 31.78125 74.21875 \r\nz\r\n\" id=\"DejaVuSans-48\"/>\r\n      </defs>\r\n      <g transform=\"translate(27.626607 239.238437)scale(0.1 -0.1)\">\r\n       <use xlink:href=\"#DejaVuSans-48\"/>\r\n      </g>\r\n     </g>\r\n    </g>\r\n    <g id=\"xtick_2\">\r\n     <g id=\"line2d_2\">\r\n      <g>\r\n       <use style=\"stroke:#000000;stroke-width:0.8;\" x=\"38.573571\" xlink:href=\"#m1aaeb746a4\" y=\"224.64\"/>\r\n      </g>\r\n     </g>\r\n     <g id=\"text_2\">\r\n      <!-- 1 -->\r\n      <defs>\r\n       <path d=\"M 12.40625 8.296875 \r\nL 28.515625 8.296875 \r\nL 28.515625 63.921875 \r\nL 10.984375 60.40625 \r\nL 10.984375 69.390625 \r\nL 28.421875 72.90625 \r\nL 38.28125 72.90625 \r\nL 38.28125 8.296875 \r\nL 54.390625 8.296875 \r\nL 54.390625 0 \r\nL 12.40625 0 \r\nz\r\n\" id=\"DejaVuSans-49\"/>\r\n      </defs>\r\n      <g transform=\"translate(35.392321 239.238437)scale(0.1 -0.1)\">\r\n       <use xlink:href=\"#DejaVuSans-49\"/>\r\n      </g>\r\n     </g>\r\n    </g>\r\n   </g>\r\n   <g id=\"matplotlib.axis_2\">\r\n    <g id=\"ytick_1\">\r\n     <g id=\"line2d_3\">\r\n      <defs>\r\n       <path d=\"M 0 0 \r\nL -3.5 0 \r\n\" id=\"ma53c8707fc\" style=\"stroke:#000000;stroke-width:0.8;\"/>\r\n      </defs>\r\n      <g>\r\n       <use style=\"stroke:#000000;stroke-width:0.8;\" x=\"26.925\" xlink:href=\"#ma53c8707fc\" y=\"11.082857\"/>\r\n      </g>\r\n     </g>\r\n     <g id=\"text_3\">\r\n      <!-- 0 -->\r\n      <g transform=\"translate(13.5625 14.882076)scale(0.1 -0.1)\">\r\n       <use xlink:href=\"#DejaVuSans-48\"/>\r\n      </g>\r\n     </g>\r\n    </g>\r\n    <g id=\"ytick_2\">\r\n     <g id=\"line2d_4\">\r\n      <g>\r\n       <use style=\"stroke:#000000;stroke-width:0.8;\" x=\"26.925\" xlink:href=\"#ma53c8707fc\" y=\"49.911429\"/>\r\n      </g>\r\n     </g>\r\n     <g id=\"text_4\">\r\n      <!-- 5 -->\r\n      <defs>\r\n       <path d=\"M 10.796875 72.90625 \r\nL 49.515625 72.90625 \r\nL 49.515625 64.59375 \r\nL 19.828125 64.59375 \r\nL 19.828125 46.734375 \r\nQ 21.96875 47.46875 24.109375 47.828125 \r\nQ 26.265625 48.1875 28.421875 48.1875 \r\nQ 40.625 48.1875 47.75 41.5 \r\nQ 54.890625 34.8125 54.890625 23.390625 \r\nQ 54.890625 11.625 47.5625 5.09375 \r\nQ 40.234375 -1.421875 26.90625 -1.421875 \r\nQ 22.3125 -1.421875 17.546875 -0.640625 \r\nQ 12.796875 0.140625 7.71875 1.703125 \r\nL 7.71875 11.625 \r\nQ 12.109375 9.234375 16.796875 8.0625 \r\nQ 21.484375 6.890625 26.703125 6.890625 \r\nQ 35.15625 6.890625 40.078125 11.328125 \r\nQ 45.015625 15.765625 45.015625 23.390625 \r\nQ 45.015625 31 40.078125 35.4375 \r\nQ 35.15625 39.890625 26.703125 39.890625 \r\nQ 22.75 39.890625 18.8125 39.015625 \r\nQ 14.890625 38.140625 10.796875 36.28125 \r\nz\r\n\" id=\"DejaVuSans-53\"/>\r\n      </defs>\r\n      <g transform=\"translate(13.5625 53.710647)scale(0.1 -0.1)\">\r\n       <use xlink:href=\"#DejaVuSans-53\"/>\r\n      </g>\r\n     </g>\r\n    </g>\r\n    <g id=\"ytick_3\">\r\n     <g id=\"line2d_5\">\r\n      <g>\r\n       <use style=\"stroke:#000000;stroke-width:0.8;\" x=\"26.925\" xlink:href=\"#ma53c8707fc\" y=\"88.74\"/>\r\n      </g>\r\n     </g>\r\n     <g id=\"text_5\">\r\n      <!-- 10 -->\r\n      <g transform=\"translate(7.2 92.539219)scale(0.1 -0.1)\">\r\n       <use xlink:href=\"#DejaVuSans-49\"/>\r\n       <use x=\"63.623047\" xlink:href=\"#DejaVuSans-48\"/>\r\n      </g>\r\n     </g>\r\n    </g>\r\n    <g id=\"ytick_4\">\r\n     <g id=\"line2d_6\">\r\n      <g>\r\n       <use style=\"stroke:#000000;stroke-width:0.8;\" x=\"26.925\" xlink:href=\"#ma53c8707fc\" y=\"127.568571\"/>\r\n      </g>\r\n     </g>\r\n     <g id=\"text_6\">\r\n      <!-- 15 -->\r\n      <g transform=\"translate(7.2 131.36779)scale(0.1 -0.1)\">\r\n       <use xlink:href=\"#DejaVuSans-49\"/>\r\n       <use x=\"63.623047\" xlink:href=\"#DejaVuSans-53\"/>\r\n      </g>\r\n     </g>\r\n    </g>\r\n    <g id=\"ytick_5\">\r\n     <g id=\"line2d_7\">\r\n      <g>\r\n       <use style=\"stroke:#000000;stroke-width:0.8;\" x=\"26.925\" xlink:href=\"#ma53c8707fc\" y=\"166.397143\"/>\r\n      </g>\r\n     </g>\r\n     <g id=\"text_7\">\r\n      <!-- 20 -->\r\n      <defs>\r\n       <path d=\"M 19.1875 8.296875 \r\nL 53.609375 8.296875 \r\nL 53.609375 0 \r\nL 7.328125 0 \r\nL 7.328125 8.296875 \r\nQ 12.9375 14.109375 22.625 23.890625 \r\nQ 32.328125 33.6875 34.8125 36.53125 \r\nQ 39.546875 41.84375 41.421875 45.53125 \r\nQ 43.3125 49.21875 43.3125 52.78125 \r\nQ 43.3125 58.59375 39.234375 62.25 \r\nQ 35.15625 65.921875 28.609375 65.921875 \r\nQ 23.96875 65.921875 18.8125 64.3125 \r\nQ 13.671875 62.703125 7.8125 59.421875 \r\nL 7.8125 69.390625 \r\nQ 13.765625 71.78125 18.9375 73 \r\nQ 24.125 74.21875 28.421875 74.21875 \r\nQ 39.75 74.21875 46.484375 68.546875 \r\nQ 53.21875 62.890625 53.21875 53.421875 \r\nQ 53.21875 48.921875 51.53125 44.890625 \r\nQ 49.859375 40.875 45.40625 35.40625 \r\nQ 44.1875 33.984375 37.640625 27.21875 \r\nQ 31.109375 20.453125 19.1875 8.296875 \r\nz\r\n\" id=\"DejaVuSans-50\"/>\r\n      </defs>\r\n      <g transform=\"translate(7.2 170.196362)scale(0.1 -0.1)\">\r\n       <use xlink:href=\"#DejaVuSans-50\"/>\r\n       <use x=\"63.623047\" xlink:href=\"#DejaVuSans-48\"/>\r\n      </g>\r\n     </g>\r\n    </g>\r\n    <g id=\"ytick_6\">\r\n     <g id=\"line2d_8\">\r\n      <g>\r\n       <use style=\"stroke:#000000;stroke-width:0.8;\" x=\"26.925\" xlink:href=\"#ma53c8707fc\" y=\"205.225714\"/>\r\n      </g>\r\n     </g>\r\n     <g id=\"text_8\">\r\n      <!-- 25 -->\r\n      <g transform=\"translate(7.2 209.024933)scale(0.1 -0.1)\">\r\n       <use xlink:href=\"#DejaVuSans-50\"/>\r\n       <use x=\"63.623047\" xlink:href=\"#DejaVuSans-53\"/>\r\n      </g>\r\n     </g>\r\n    </g>\r\n   </g>\r\n   <g id=\"patch_3\">\r\n    <path d=\"M 26.925 224.64 \r\nL 26.925 7.2 \r\n\" style=\"fill:none;stroke:#000000;stroke-linecap:square;stroke-linejoin:miter;stroke-width:0.8;\"/>\r\n   </g>\r\n   <g id=\"patch_4\">\r\n    <path d=\"M 42.456429 224.64 \r\nL 42.456429 7.2 \r\n\" style=\"fill:none;stroke:#000000;stroke-linecap:square;stroke-linejoin:miter;stroke-width:0.8;\"/>\r\n   </g>\r\n   <g id=\"patch_5\">\r\n    <path d=\"M 26.925 224.64 \r\nL 42.456429 224.64 \r\n\" style=\"fill:none;stroke:#000000;stroke-linecap:square;stroke-linejoin:miter;stroke-width:0.8;\"/>\r\n   </g>\r\n   <g id=\"patch_6\">\r\n    <path d=\"M 26.925 7.2 \r\nL 42.456429 7.2 \r\n\" style=\"fill:none;stroke:#000000;stroke-linecap:square;stroke-linejoin:miter;stroke-width:0.8;\"/>\r\n   </g>\r\n  </g>\r\n </g>\r\n <defs>\r\n  <clipPath id=\"p0aa9692846\">\r\n   <rect height=\"217.44\" width=\"15.531429\" x=\"26.925\" y=\"7.2\"/>\r\n  </clipPath>\r\n </defs>\r\n</svg>\r\n",
      "image/png": "[encoded data removed]"
     },
     "metadata": {
      "needs_background": "light"
     }
    }
   ],
   "source": [
    "#plotting\n",
    "from matplotlib import pyplot\n",
    "pyplot.imshow(left_slice_two_px[0])#, cmap=pyplot.get_cmap('gray')\n",
    "pyplot.show()\n",
    "pyplot.imshow(right_slice_two_px[1])#, cmap=pyplot.get_cmap('gray')\n",
    "pyplot.show()"
   ]
  },
  {
   "cell_type": "code",
   "execution_count": 156,
   "metadata": {},
   "outputs": [],
   "source": [
    "# Averaging out the values \n",
    "two_px_left = [np.sum(left_slice_two_px[i], axis = 1)/2 for i in range(len(left_slice_two_px))]\n",
    "two_px_right = [np.sum(right_slice_two_px[i], axis = 1)/2 for i in range(len(right_slice_two_px))]"
   ]
  },
  {
   "cell_type": "code",
   "execution_count": 157,
   "metadata": {},
   "outputs": [
    {
     "output_type": "execute_result",
     "data": {
      "text/plain": [
       "                                                left  \\\n",
       "0  [0, 0, 0, 0, 0, 18, 253, 253, 253, 205, 90, 19...   \n",
       "1  [0, 0, 0, 0, 0, 0, 54, 224, 252, 253, 179, 84,...   \n",
       "2  [0, 0, 0, 0, 0, 0, 0, 0, 0, 0, 0, 0, 0, 0, 150...   \n",
       "3  [0, 0, 0, 0, 0, 0, 0, 0, 0, 0, 0, 0, 32, 104, ...   \n",
       "4  [0, 0, 0, 0, 0, 0, 0, 148, 252, 190, 14, 0, 0,...   \n",
       "\n",
       "                                               right  \\\n",
       "0  [0, 0, 0, 0, 0, 18, 253, 253, 198, 11, 0, 2, 7...   \n",
       "1  [0, 0, 0, 0, 0, 48, 227, 252, 252, 190, 12, 0,...   \n",
       "2  [0, 0, 0, 0, 0, 0, 0, 0, 0, 0, 0, 0, 0, 0, 241...   \n",
       "3  [0, 0, 0, 0, 0, 0, 0, 0, 0, 0, 0, 20, 205, 251...   \n",
       "4  [0, 0, 0, 0, 0, 0, 0, 210, 253, 65, 0, 0, 8, 2...   \n",
       "\n",
       "                                             left_av  \\\n",
       "0  [0.0, 0.0, 0.0, 0.0, 0.0, 10.5, 211.5, 253.0, ...   \n",
       "1  [0.0, 0.0, 0.0, 0.0, 0.0, 0.0, 27.0, 142.0, 25...   \n",
       "2  [0.0, 0.0, 0.0, 0.0, 0.0, 0.0, 0.0, 0.0, 0.0, ...   \n",
       "3  [0.0, 0.0, 0.0, 0.0, 0.0, 0.0, 0.0, 0.0, 0.0, ...   \n",
       "4  [0.0, 0.0, 0.0, 0.0, 0.0, 0.0, 0.0, 101.5, 242...   \n",
       "\n",
       "                                            right_av  \n",
       "0  [0.0, 0.0, 0.0, 0.0, 0.0, 18.0, 253.0, 253.0, ...  \n",
       "1  [0.0, 0.0, 0.0, 0.0, 25.5, 143.0, 240.0, 252.5...  \n",
       "2  [0.0, 0.0, 0.0, 0.0, 0.0, 0.0, 0.0, 0.0, 0.0, ...  \n",
       "3  [0.0, 0.0, 0.0, 0.0, 0.0, 0.0, 0.0, 0.0, 0.0, ...  \n",
       "4  [0.0, 0.0, 0.0, 0.0, 0.0, 0.0, 0.0, 231.5, 221...  "
      ],
      "text/html": "<div>\n<style scoped>\n    .dataframe tbody tr th:only-of-type {\n        vertical-align: middle;\n    }\n\n    .dataframe tbody tr th {\n        vertical-align: top;\n    }\n\n    .dataframe thead th {\n        text-align: right;\n    }\n</style>\n<table border=\"1\" class=\"dataframe\">\n  <thead>\n    <tr style=\"text-align: right;\">\n      <th></th>\n      <th>left</th>\n      <th>right</th>\n      <th>left_av</th>\n      <th>right_av</th>\n    </tr>\n  </thead>\n  <tbody>\n    <tr>\n      <td>0</td>\n      <td>[0, 0, 0, 0, 0, 18, 253, 253, 253, 205, 90, 19...</td>\n      <td>[0, 0, 0, 0, 0, 18, 253, 253, 198, 11, 0, 2, 7...</td>\n      <td>[0.0, 0.0, 0.0, 0.0, 0.0, 10.5, 211.5, 253.0, ...</td>\n      <td>[0.0, 0.0, 0.0, 0.0, 0.0, 18.0, 253.0, 253.0, ...</td>\n    </tr>\n    <tr>\n      <td>1</td>\n      <td>[0, 0, 0, 0, 0, 0, 54, 224, 252, 253, 179, 84,...</td>\n      <td>[0, 0, 0, 0, 0, 48, 227, 252, 252, 190, 12, 0,...</td>\n      <td>[0.0, 0.0, 0.0, 0.0, 0.0, 0.0, 27.0, 142.0, 25...</td>\n      <td>[0.0, 0.0, 0.0, 0.0, 25.5, 143.0, 240.0, 252.5...</td>\n    </tr>\n    <tr>\n      <td>2</td>\n      <td>[0, 0, 0, 0, 0, 0, 0, 0, 0, 0, 0, 0, 0, 0, 150...</td>\n      <td>[0, 0, 0, 0, 0, 0, 0, 0, 0, 0, 0, 0, 0, 0, 241...</td>\n      <td>[0.0, 0.0, 0.0, 0.0, 0.0, 0.0, 0.0, 0.0, 0.0, ...</td>\n      <td>[0.0, 0.0, 0.0, 0.0, 0.0, 0.0, 0.0, 0.0, 0.0, ...</td>\n    </tr>\n    <tr>\n      <td>3</td>\n      <td>[0, 0, 0, 0, 0, 0, 0, 0, 0, 0, 0, 0, 32, 104, ...</td>\n      <td>[0, 0, 0, 0, 0, 0, 0, 0, 0, 0, 0, 20, 205, 251...</td>\n      <td>[0.0, 0.0, 0.0, 0.0, 0.0, 0.0, 0.0, 0.0, 0.0, ...</td>\n      <td>[0.0, 0.0, 0.0, 0.0, 0.0, 0.0, 0.0, 0.0, 0.0, ...</td>\n    </tr>\n    <tr>\n      <td>4</td>\n      <td>[0, 0, 0, 0, 0, 0, 0, 148, 252, 190, 14, 0, 0,...</td>\n      <td>[0, 0, 0, 0, 0, 0, 0, 210, 253, 65, 0, 0, 8, 2...</td>\n      <td>[0.0, 0.0, 0.0, 0.0, 0.0, 0.0, 0.0, 101.5, 242...</td>\n      <td>[0.0, 0.0, 0.0, 0.0, 0.0, 0.0, 0.0, 231.5, 221...</td>\n    </tr>\n  </tbody>\n</table>\n</div>"
     },
     "metadata": {},
     "execution_count": 157
    }
   ],
   "source": [
    "import pandas as pd\n",
    "import numpy as np\n",
    "df = pd.DataFrame([left_slice_train_X, right_slice_train_X, two_px_left, two_px_right])\n",
    "df = df.T\n",
    "df = df.rename(columns = {0:'left', 1:'right', 2:'left_av', 3:'right_av'})\n",
    "df.head()"
   ]
  },
  {
   "cell_type": "code",
   "execution_count": 158,
   "metadata": {},
   "outputs": [],
   "source": [
    "#The scoring metric that was defined above\n",
    "def scoring_metric(column_name_1,column_name_2):\n",
    "    correct = 0\n",
    "    for i in range(len(df)):\n",
    "        result = abs(np.array(df[column_name_1][i]) - np.array(df[column_name_2].values.tolist())) # vectorized \n",
    "        sums = [sum(result[j]) for j in range(len(result))]\n",
    "        min_value = min(sums)\n",
    "        min_index = sums.index(min_value)\n",
    "        if i == min_index:\n",
    "            correct += 1\n",
    "    print(correct/len(df))"
   ]
  },
  {
   "cell_type": "code",
   "execution_count": 159,
   "metadata": {},
   "outputs": [],
   "source": [
    "# Scoring Metric:\n",
    "# No funny business or transformations of any sort. Taking the left np array and subtracting its values element-wise on the entire right column, summing the abs of the difference, and taking the smallest resulting value as the match.\n",
    "\n",
    "# Ended up using it so often that I just decided to make it a function\n",
    "def scoring(column_1, column_2):\n",
    "    correct = 0\n",
    "    for i in range(len(df)):\n",
    "        result = abs(np.array(df[column_1][i]) - np.array(df[column_2].values.tolist())) # vectorized \n",
    "        sums = [sum(result[j]) for j in range(len(result))]\n",
    "        min_value = min(sums)\n",
    "        min_index = sums.index(min_value)\n",
    "        if i == min_index:\n",
    "            correct += 1\n",
    "    return correct/len(df) \n"
   ]
  },
  {
   "cell_type": "code",
   "execution_count": 160,
   "metadata": {},
   "outputs": [
    {
     "output_type": "execute_result",
     "data": {
      "text/plain": [
       "0.094"
      ]
     },
     "metadata": {},
     "execution_count": 160
    }
   ],
   "source": [
    "scoring('left', 'right')\n",
    "# with 100 samples I have a 0.21 of correctly associating images \n",
    "# with 1000 samples I have a 0.094 of correctly associating images\n",
    "# with 10000 samples I have a 0.0472 of correctly associating images"
   ]
  },
  {
   "cell_type": "code",
   "execution_count": 161,
   "metadata": {},
   "outputs": [
    {
     "output_type": "execute_result",
     "data": {
      "text/plain": [
       "0.077"
      ]
     },
     "metadata": {},
     "execution_count": 161
    }
   ],
   "source": [
    "scoring('left_av', 'right')\n",
    "# with 100 samples I have a 0.2 of correctly associating images \n",
    "# with 1000 samples I have a 0.077 of correctly associating images"
   ]
  },
  {
   "cell_type": "code",
   "execution_count": 162,
   "metadata": {},
   "outputs": [
    {
     "output_type": "execute_result",
     "data": {
      "text/plain": [
       "0.092"
      ]
     },
     "metadata": {},
     "execution_count": 162
    }
   ],
   "source": [
    "scoring('left', 'right_av')\r\n",
    "# with 100 samples I have a 0.2 of correctly associating images \r\n",
    "# with 1000 samples I have a 0.092 of correctly associating images"
   ]
  },
  {
   "cell_type": "code",
   "execution_count": 163,
   "metadata": {},
   "outputs": [
    {
     "output_type": "execute_result",
     "data": {
      "text/plain": [
       "0.052"
      ]
     },
     "metadata": {},
     "execution_count": 163
    }
   ],
   "source": [
    "scoring('left_av', 'right_av')\n",
    "# with 100 samples I have a 0.15 of correctly associating images \n",
    "# with 1000 samples I have a 0.052 of correctly associating images"
   ]
  },
  {
   "cell_type": "code",
   "execution_count": 165,
   "metadata": {},
   "outputs": [],
   "source": [
    "# Repeating elements to \"generate data\" to smoothen \n",
    "repeated_L_2 = [np.repeat(df.left[i],2) for i in range(len(df.left))]\n",
    "df['repeated_left_2'] =  repeated_L_2\n",
    "\n",
    "repeated_R_2 = [np.repeat(df.right[i],2) for i in range(len(df.right))]\n",
    "df['repeated_right_2'] =  repeated_R_2"
   ]
  },
  {
   "cell_type": "code",
   "execution_count": 166,
   "metadata": {},
   "outputs": [],
   "source": [
    "#Window method to average out\n",
    "avg_L_2 = []\n",
    "for i in range(len(df['repeated_left_2'])):\n",
    "    numbers = df['repeated_left_2'][i]\n",
    "    window_size = 3\n",
    "    i = 0\n",
    "    moving_averages = []\n",
    "    while i < len(numbers) - window_size + 1:\n",
    "        this_window = numbers[i : i + window_size]\n",
    "        window_average = sum(this_window) / window_size\n",
    "        moving_averages.append(window_average)\n",
    "        i += 1\n",
    "    avg_L_2.append(moving_averages)\n"
   ]
  },
  {
   "cell_type": "code",
   "execution_count": 167,
   "metadata": {},
   "outputs": [],
   "source": [
    "avg_R_2 = []\n",
    "for i in range(len(df['repeated_right_2'])):\n",
    "    numbers = df['repeated_right_2'][i]\n",
    "    window_size = 3\n",
    "    i = 0\n",
    "    moving_averages = []\n",
    "    while i < len(numbers) - window_size + 1:\n",
    "        this_window = numbers[i : i + window_size]\n",
    "        window_average = sum(this_window) / window_size\n",
    "        moving_averages.append(window_average)\n",
    "        i += 1\n",
    "    avg_R_2.append(moving_averages)"
   ]
  },
  {
   "cell_type": "code",
   "execution_count": 168,
   "metadata": {},
   "outputs": [],
   "source": [
    "df['window_left_2'] =  avg_L_2\n",
    "df['window_right_2'] =  avg_R_2"
   ]
  },
  {
   "cell_type": "code",
   "execution_count": 169,
   "metadata": {},
   "outputs": [
    {
     "output_type": "execute_result",
     "data": {
      "text/plain": [
       "0.198"
      ]
     },
     "metadata": {},
     "execution_count": 169
    }
   ],
   "source": [
    "scoring('window_left_2', 'window_right_2')\n",
    "# Significant imporvement when I apply a \"gradient\"\n",
    "# with 100 samples I have a 0.38 of correctly associating images \n",
    "# with 1000 samples I have a 0.198 of correctly associating images\n",
    "# with 10000 samples I have a 0.089 of correctly associating images"
   ]
  },
  {
   "cell_type": "code",
   "execution_count": 170,
   "metadata": {},
   "outputs": [],
   "source": [
    "repeated_L_3 = [np.repeat(df.left[i],3) for i in range(len(df.left))]\n",
    "df['repeated_left_3'] =  repeated_L_3\n",
    "repeated_R_3 = [np.repeat(df.right[i],3) for i in range(len(df.right))]\n",
    "df['repeated_right_3'] =  repeated_R_3"
   ]
  },
  {
   "cell_type": "code",
   "execution_count": 171,
   "metadata": {},
   "outputs": [],
   "source": [
    "avg_L_3 = []\n",
    "for i in range(len(df['repeated_left_3'])):\n",
    "    numbers = df['repeated_left_3'][i]\n",
    "    window_size = 3\n",
    "    i = 0\n",
    "    moving_averages = []\n",
    "    while i < len(numbers) - window_size + 1:\n",
    "        this_window = numbers[i : i + window_size]\n",
    "        window_average = sum(this_window) / window_size\n",
    "        moving_averages.append(window_average)\n",
    "        i += 1\n",
    "    avg_L_3.append(moving_averages)"
   ]
  },
  {
   "cell_type": "code",
   "execution_count": 172,
   "metadata": {},
   "outputs": [],
   "source": [
    "avg_R_3 = []\n",
    "for i in range(len(df['repeated_right_3'])):\n",
    "    numbers = df['repeated_right_3'][i]\n",
    "    window_size = 3\n",
    "    i = 0\n",
    "    moving_averages = []\n",
    "    while i < len(numbers) - window_size + 1:\n",
    "        this_window = numbers[i : i + window_size]\n",
    "        window_average = sum(this_window) / window_size\n",
    "        moving_averages.append(window_average)\n",
    "        i += 1\n",
    "    avg_R_3.append(moving_averages)"
   ]
  },
  {
   "cell_type": "code",
   "execution_count": 173,
   "metadata": {},
   "outputs": [],
   "source": [
    "df['window_left_3'] =  avg_L_3\n",
    "df['window_right_3'] =  avg_R_3"
   ]
  },
  {
   "cell_type": "code",
   "execution_count": 174,
   "metadata": {},
   "outputs": [
    {
     "output_type": "execute_result",
     "data": {
      "text/plain": [
       "0.194"
      ]
     },
     "metadata": {},
     "execution_count": 174
    }
   ],
   "source": [
    "scoring('window_left_3', 'window_right_3')\n",
    "# with 100 samples I have a 0.36 of correctly associating images \n",
    "# with 1000 samples I have a 0.194 of correctly associating images\n",
    "# with 10000 samples I have a 0.0898 of correctly associating images"
   ]
  },
  {
   "cell_type": "code",
   "execution_count": 175,
   "metadata": {},
   "outputs": [],
   "source": [
    "avg_L_3_2 = []\n",
    "for i in range(len(df['repeated_left_3'])):\n",
    "    numbers = df['repeated_left_3'][i]\n",
    "    window_size = 2\n",
    "    i = 0\n",
    "    moving_averages = []\n",
    "    while i < len(numbers) - window_size + 1:\n",
    "        this_window = numbers[i : i + window_size]\n",
    "        window_average = sum(this_window) / window_size\n",
    "        moving_averages.append(window_average)\n",
    "        i += 1\n",
    "    avg_L_3_2.append(moving_averages)"
   ]
  },
  {
   "cell_type": "code",
   "execution_count": 176,
   "metadata": {},
   "outputs": [],
   "source": [
    "avg_R_3_2 = []\n",
    "for i in range(len(df['repeated_right_3'])):\n",
    "    numbers = df['repeated_right_3'][i]\n",
    "    window_size = 2\n",
    "    i = 0\n",
    "    moving_averages = []\n",
    "    while i < len(numbers) - window_size + 1:\n",
    "        this_window = numbers[i : i + window_size]\n",
    "        window_average = sum(this_window) / window_size\n",
    "        moving_averages.append(window_average)\n",
    "        i += 1\n",
    "    avg_R_3_2.append(moving_averages)"
   ]
  },
  {
   "cell_type": "code",
   "execution_count": 177,
   "metadata": {},
   "outputs": [],
   "source": [
    "df['window_left_3_2'] =  avg_L_3_2\n",
    "df['window_right_3_2'] =  avg_R_3_2"
   ]
  },
  {
   "cell_type": "code",
   "execution_count": 178,
   "metadata": {},
   "outputs": [
    {
     "output_type": "execute_result",
     "data": {
      "text/plain": [
       "0.195"
      ]
     },
     "metadata": {},
     "execution_count": 178
    }
   ],
   "source": [
    "scoring('window_left_3_2', 'window_right_3_2')\n",
    "\n",
    "# with 100 samples I have a 0.36 of correctly associating images \n",
    "# with 1000 samples I have a 0.195 of correctly associating images\n",
    "# with 10000 samples I have a 0.0907 of correctly associating images"
   ]
  },
  {
   "source": [
    "### Given more time:\n",
    "\n",
    "- Combine methods\n",
    "- Utilize the associated label (if the label for the numbers do not match, move on to next min) \n",
    "- Produce a NN with a structure similar to face recognition "
   ],
   "cell_type": "markdown",
   "metadata": {}
  }
 ]
}